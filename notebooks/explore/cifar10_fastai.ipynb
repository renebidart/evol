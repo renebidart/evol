{
 "cells": [
  {
   "cell_type": "markdown",
   "metadata": {},
   "source": [
    "# Learning rate/momentum schedules with pre-trained models\n",
    "* Ignore training from scratch for now. Use only imagenet pre-trained models\n",
    "* Use standard model like resnet50. Better model like DenseNet 169 just isn't good enough to justify the decreased batch size and higher iteration time.\n",
    "\n",
    "The default to investigate will be resnet50 with CIFAR10\n",
    "\n",
    "Try:\n",
    "* Finding optimal learning rate given common momemtum initialization. \n",
    "* Find optimal momentum given a sensible learning rate schedule.\n",
    "* Try optimizing both at the same time.\n",
    "\n",
    "\n",
    "Later:\n",
    "* Test on MNIST, CIFAR10, CIFAR100, ???\n",
    "* Try different models (resnet 50, densenet 169, ???)\n",
    "* Try different numbers of epochs until the test. Enough to get high accuracy, and much less than expected to give optimal.\n",
    "\n",
    "Maybe:\n",
    "* Look at how the learning rates evolve from a bad initialization to a sensible one (gif)\n",
    "* look at how optimal learning rate schedule changes based on the momemtum used.\n"
   ]
  },
  {
   "cell_type": "markdown",
   "metadata": {},
   "source": [
    "## Test out the pre-trained model and Training from scratch on CIFAR"
   ]
  },
  {
   "cell_type": "code",
   "execution_count": 1,
   "metadata": {},
   "outputs": [
    {
     "name": "stdout",
     "output_type": "stream",
     "text": [
      "/media/rene/Data/learn-lr/src\n",
      "True\n",
      "1\n"
     ]
    }
   ],
   "source": [
    "import os\n",
    "import sys\n",
    "import glob\n",
    "import random\n",
    "import pickle\n",
    "import numpy as np\n",
    "import pandas as pd\n",
    "from tqdm import tqdm\n",
    "\n",
    "from fastai.imports import *\n",
    "from fastai.transforms import *\n",
    "from fastai.conv_learner import *\n",
    "from fastai.model import *\n",
    "from fastai.dataset import *\n",
    "from fastai.sgdr import *\n",
    "from fastai.plots import *\n",
    "\n",
    "fast_ai_dir = '/media/rene/Data/fastai/'\n",
    "sys.path.append(fast_ai_dir)\n",
    "\n",
    "SEED = 101\n",
    "np.random.seed(SEED)\n",
    "from torchvision import datasets, models, transforms\n",
    "\n",
    "%reload_ext autoreload\n",
    "%autoreload 2\n",
    "%matplotlib inline\n",
    "\n",
    "# Add the src directory for functions\n",
    "src_dir = os.path.join(os.path.dirname(os.path.dirname(os.getcwd())), 'src')\n",
    "print(src_dir)\n",
    "sys.path.append(src_dir)\n",
    "\n",
    "# import my functions:\n",
    "from genetic import*\n",
    "\n",
    "torch.cuda.set_device(1)\n",
    "print(torch.cuda.is_available())\n",
    "print(torch.cuda.current_device())"
   ]
  },
  {
   "cell_type": "markdown",
   "metadata": {},
   "source": [
    "### Reorder folders \n",
    "http://forums.fast.ai/t/not-a-directory-error-in-cifar10-exercise/13401"
   ]
  },
  {
   "cell_type": "code",
   "execution_count": 2,
   "metadata": {},
   "outputs": [],
   "source": [
    "PATH = \"/media/rene/Data/data/cifar10/\""
   ]
  },
  {
   "cell_type": "code",
   "execution_count": 14,
   "metadata": {},
   "outputs": [],
   "source": [
    "# import os\n",
    "# import glob\n",
    "# import shutil\n",
    "# classes = ('airplane', 'automobile', 'bird', 'cat', 'deer', 'dog', 'frog', 'horse', 'ship', 'truck')\n",
    "# cwd = os.getcwd()\n",
    "# train_path = PATH + '/train/'\n",
    "# test_path = PATH + '/test/'\n",
    "# sample_path = PATH + '/sample/'\n",
    "\n",
    "# # go through classes and make a directory for each one\n",
    "# for class_now in classes:\n",
    "#     path_now = train_path + class_now\n",
    "#     if not os.path.exists(path_now):\n",
    "#         os.makedirs(path_now)\n",
    "# # go through classes and match them with file names\n",
    "# # file names are e.g. '123_frog.png' so glob picks out all the e.g. frog files\n",
    "# for class_now in classes:\n",
    "#     identifier = train_path + '*' + class_now + '.png'\n",
    "#     class_files = glob.glob(identifier)\n",
    "#     file_destination = train_path + class_now\n",
    "#     # move all frog files to proper class directory\n",
    "#     for file_to_move in class_files:\n",
    "#         shutil.move(file_to_move, file_destination)\n",
    "\n",
    "# # do all the same but now for the test data\n",
    "# for class_now in classes:\n",
    "#     path_now = test_path + class_now\n",
    "#     if not os.path.exists(path_now):\n",
    "#         os.makedirs(path_now)\n",
    "# for class_now in classes:\n",
    "#     identifier = test_path + '*' + class_now + '.png'\n",
    "#     class_files = glob.glob(identifier)\n",
    "#     file_destination = test_path + class_now\n",
    "#     for file_to_move in class_files:\n",
    "#         shutil.move(file_to_move, file_destination)\n",
    "\n",
    "\n",
    "# def make_sample_dataset(data_loc, new_loc, ttv_folders, frac):\n",
    "#     \"\"\"ttv_folders are the names of test, train, valid folders. Assume already in fastai folder format\"\"\"   \n",
    "#     for folder in ttv_folders:\n",
    "#         classes = [name for name in os.listdir(os.path.join(data_loc, folder)) if os.path.isdir(os.path.join(data_loc, folder, name))]\n",
    "#         # go through classes, make output directory, copy a sample of image to this\n",
    "#         for class_name in classes:\n",
    "#             curr_path = os.path.join(data_loc, folder, class_name)\n",
    "#             out_path = os.path.join(new_loc, folder, class_name)\n",
    "#             if not os.path.exists(out_path):\n",
    "#                 os.makedirs(out_path)\n",
    "                \n",
    "#             files = glob.glob(curr_path + '/*.png')\n",
    "#             sample_files = random.sample(files, int(len(files)*frac))\n",
    "#             for file_to_copy in sample_files:\n",
    "#                 shutil.copyfile(file_to_copy, os.path.join(new_loc, folder, class_name, file_to_copy.rsplit('/')[-1]))\n",
    "                  \n",
    "# new_loc = os.path.join(PATH, 'sample')\n",
    "# ttv_folders = ['train', 'test']\n",
    "# frac = .05\n",
    "# make_sample_dataset(PATH, new_loc, ttv_folders, frac)"
   ]
  },
  {
   "cell_type": "markdown",
   "metadata": {},
   "source": [
    "## Check Darknet (fastai) on CIFAR"
   ]
  },
  {
   "cell_type": "markdown",
   "metadata": {},
   "source": [
    "Use a standard architecture from fastai (https://github.com/fastai/fastai/blob/master/courses/dl2/cifar10-darknet.ipynb) for consistency. Nothing special, just a good residual architecture.\n",
    "\n",
    "Architecture Choices:\n",
    "* Residual connections (obviously better)\n",
    "* Leaky ReLU - Sometimes helps, so why not?\n",
    "* ??? BatchNorm2d(nf, momentum=0.01) ???"
   ]
  },
  {
   "cell_type": "code",
   "execution_count": 3,
   "metadata": {},
   "outputs": [],
   "source": [
    "def conv_layer(ni, nf, ks=3, stride=1):\n",
    "    return nn.Sequential(\n",
    "        nn.Conv2d(ni, nf, kernel_size=ks, bias=False, stride=stride, padding=ks//2),\n",
    "        nn.BatchNorm2d(nf, momentum=0.01),\n",
    "        nn.LeakyReLU(negative_slope=0.1, inplace=True))\n",
    "\n",
    "class ResLayer(nn.Module):\n",
    "    def __init__(self, ni):\n",
    "        super().__init__()\n",
    "        self.conv1=conv_layer(ni, ni//2, ks=1)\n",
    "        self.conv2=conv_layer(ni//2, ni, ks=3)\n",
    "        \n",
    "    def forward(self, x): \n",
    "        return x.add(self.conv2(self.conv1(x)))\n",
    "#        return x.add_(self.conv2(self.conv1(x)))\n",
    "\n",
    "class Darknet(nn.Module):\n",
    "    def make_group_layer(self, ch_in, num_blocks, stride=1):\n",
    "        return [conv_layer(ch_in, ch_in*2,stride=stride)\n",
    "               ] + [(ResLayer(ch_in*2)) for i in range(num_blocks)]\n",
    "\n",
    "    def __init__(self, num_blocks, num_classes, nf=32):\n",
    "        super().__init__()\n",
    "        layers = [conv_layer(3, nf, ks=3, stride=1)]\n",
    "        for i,nb in enumerate(num_blocks):\n",
    "            layers += self.make_group_layer(nf, nb, stride=2-(i==1))\n",
    "            nf *= 2\n",
    "        layers += [nn.AdaptiveAvgPool2d(1), Flatten(), nn.Linear(nf, num_classes)]\n",
    "        self.layers = nn.Sequential(*layers)\n",
    "    \n",
    "    def forward(self, x): return self.layers(x)"
   ]
  },
  {
   "cell_type": "code",
   "execution_count": 16,
   "metadata": {},
   "outputs": [],
   "source": [
    "num_workers = 4\n",
    "bs=256\n",
    "sz=32\n",
    "stats = (np.array([ 0.4914 ,  0.48216,  0.44653]), np.array([ 0.24703,  0.24349,  0.26159]))\n",
    "\n",
    "tfms = tfms_from_stats(stats, sz, aug_tfms=[RandomFlip()], pad=sz//8)\n",
    "data = ImageClassifierData.from_paths(PATH, val_name='test', tfms=tfms, bs=bs)"
   ]
  },
  {
   "cell_type": "code",
   "execution_count": 17,
   "metadata": {},
   "outputs": [],
   "source": [
    "m = Darknet([1, 2, 4, 6, 3], num_classes=10, nf=32)"
   ]
  },
  {
   "cell_type": "code",
   "execution_count": 18,
   "metadata": {},
   "outputs": [],
   "source": [
    "lr = 1.3\n",
    "learn = ConvLearner.from_model_data(m, data)\n",
    "learn.crit = nn.CrossEntropyLoss()\n",
    "learn.metrics = [accuracy]\n",
    "wd=1e-4"
   ]
  },
  {
   "cell_type": "code",
   "execution_count": 19,
   "metadata": {},
   "outputs": [
    {
     "name": "stdout",
     "output_type": "stream",
     "text": [
      "0.3.1.post2\n"
     ]
    },
    {
     "data": {
      "application/vnd.jupyter.widget-view+json": {
       "model_id": "28c5f10c0bdb4723a747599f34700b4f",
       "version_major": 2,
       "version_minor": 0
      },
      "text/plain": [
       "HBox(children=(IntProgress(value=0, description='Epoch', max=30), HTML(value='')))"
      ]
     },
     "metadata": {},
     "output_type": "display_data"
    },
    {
     "name": "stdout",
     "output_type": "stream",
     "text": [
      " 19%|█▉        | 37/196 [00:08<00:35,  4.52it/s, loss=2.73]\n",
      "epoch      trn_loss   val_loss   accuracy                   \n",
      "    0      2.116278   5.893328   0.145     \n",
      "    1      1.811555   2.475484   0.1729                     \n",
      "    2      1.615913   2.726614   0.1724                     \n",
      "    3      1.44142    2.047642   0.2936                     \n",
      "    4      1.243913   1.807264   0.3747                     \n",
      "    5      1.087812   1.185657   0.5766                     \n",
      "    6      0.95191    1.376443   0.5022                      \n",
      "    7      0.858742   1.233885   0.5778                      \n",
      "    8      0.788671   1.021934   0.651                       \n",
      "    9      0.72621    1.074404   0.6414                      \n",
      "    10     0.7014     0.924746   0.6999                      \n",
      "    11     0.662952   0.950845   0.6667                      \n",
      "    12     0.62576    0.936544   0.6889                      \n",
      "    13     0.580086   1.460393   0.5737                      \n",
      "    14     0.565217   0.636019   0.7832                      \n",
      "    15     0.526758   0.808059   0.7235                      \n",
      "    16     0.515881   1.292353   0.5954                      \n",
      "    17     0.493714   0.716793   0.7524                      \n",
      "    18     0.457479   0.640982   0.7803                      \n",
      "    19     0.438422   0.736097   0.7551                      \n",
      "    20     0.414408   0.644043   0.7776                      \n",
      "    21     0.371136   0.58841    0.8001                      \n",
      "    22     0.316648   0.462403   0.8424                      \n",
      "    23     0.252624   0.387409   0.8674                      \n",
      "    24     0.197402   0.331947   0.8861                      \n",
      "    25     0.174566   0.320845   0.8938                      \n",
      "    26     0.153352   0.323263   0.8942                      \n",
      "    27     0.138215   0.293095   0.9064                      \n",
      "    28     0.118156   0.282162   0.9108                      \n",
      "    29     0.103686   0.278222   0.9121                      \n",
      "\n",
      "CPU times: user 1h 49min 24s, sys: 11min 19s, total: 2h 44s\n",
      "Wall time: 20min 32s\n"
     ]
    },
    {
     "data": {
      "text/plain": [
       "[array([0.27822]), 0.9121]"
      ]
     },
     "execution_count": 19,
     "metadata": {},
     "output_type": "execute_result"
    }
   ],
   "source": [
    "print(torch.__version__)\n",
    "%time learn.fit(lr, 1, wds=wd, cycle_len=30, use_clr_beta=(20, 20, 0.95, 0.85))"
   ]
  },
  {
   "cell_type": "code",
   "execution_count": 8,
   "metadata": {},
   "outputs": [
    {
     "data": {
      "application/vnd.jupyter.widget-view+json": {
       "model_id": "06af06c888ef424bae86dcc6b152c924",
       "version_major": 2,
       "version_minor": 0
      },
      "text/plain": [
       "HBox(children=(IntProgress(value=0, description='Epoch', max=5), HTML(value='')))"
      ]
     },
     "metadata": {},
     "output_type": "display_data"
    },
    {
     "name": "stdout",
     "output_type": "stream",
     "text": [
      "epoch      trn_loss   val_loss   accuracy                    \n",
      "    0      0.921993   1.593282   0.5677    \n",
      "    1      0.676647   0.643562   0.77                        \n",
      "    2      0.61068    0.610323   0.7865                      \n",
      "    3      0.552512   0.53407    0.815                       \n",
      "    4      0.467992   0.500855   0.8274                      \n",
      "\n"
     ]
    },
    {
     "data": {
      "image/png": "[encoded data removed]",
      "text/plain": [
       "<Figure size 864x288 with 2 Axes>"
      ]
     },
     "metadata": {},
     "output_type": "display_data"
    }
   ],
   "source": [
    "# %%capture output\n",
    "data = ImageClassifierData.from_paths(PATH, val_name='test', tfms=tfms, bs=bs)\n",
    "\n",
    "learn2 = ConvLearner.from_model_data(m, data)\n",
    "learn2.crit = nn.CrossEntropyLoss()\n",
    "learn2.metrics = [accuracy]\n",
    "\n",
    "phases = [TrainingPhase(epochs=1, opt_fn=optim.SGD, lr = 1e-2), \n",
    "          TrainingPhase(epochs=1, opt_fn=optim.SGD, lr = (1e-2,1e-3), lr_decay=DecayType.LINEAR),\n",
    "          TrainingPhase(epochs=1, opt_fn=optim.SGD, lr = (1e-2,1e-3), lr_decay=DecayType.LINEAR),\n",
    "          TrainingPhase(epochs=1, opt_fn=optim.SGD, lr = (1e-2,1e-3), lr_decay=DecayType.LINEAR),\n",
    "          TrainingPhase(epochs=1, opt_fn=optim.SGD, lr = 1e-3)]\n",
    "\n",
    "learn2.fit_opt_sched(phases)\n",
    "learn2.sched.plot_lr(show_text=False)"
   ]
  },
  {
   "cell_type": "markdown",
   "metadata": {},
   "source": [
    "## Try 1 cycle"
   ]
  },
  {
   "cell_type": "code",
   "execution_count": 18,
   "metadata": {},
   "outputs": [],
   "source": [
    "def phases_1cycle(cycle_len,lr,div,pct,max_mom,min_mom):\n",
    "    tri_cyc = (1-pct/100) * cycle_len\n",
    "    return [TrainingPhase(epochs=tri_cyc/2, opt_fn=optim.SGD, lr=(lr/div,lr), lr_decay=DecayType.LINEAR, \n",
    "                          momentum=(max_mom,min_mom), momentum_decay=DecayType.LINEAR),\n",
    "           TrainingPhase(epochs=tri_cyc/2, opt_fn=optim.SGD, lr=(lr,lr/div), lr_decay=DecayType.LINEAR, \n",
    "                          momentum=(min_mom,max_mom), momentum_decay=DecayType.LINEAR),\n",
    "           TrainingPhase(epochs=cycle_len-tri_cyc, opt_fn=optim.SGD, lr=(lr/div,lr/(100*div)), lr_decay=DecayType.LINEAR, \n",
    "                          momentum=max_mom)]"
   ]
  },
  {
   "cell_type": "code",
   "execution_count": 19,
   "metadata": {},
   "outputs": [
    {
     "data": {
      "application/vnd.jupyter.widget-view+json": {
       "model_id": "5786afa5f72c4a1c81fb74ec5be638f8",
       "version_major": 2,
       "version_minor": 0
      },
      "text/plain": [
       "HBox(children=(IntProgress(value=0, description='Epoch', max=20), HTML(value='')))"
      ]
     },
     "metadata": {},
     "output_type": "display_data"
    },
    {
     "name": "stdout",
     "output_type": "stream",
     "text": [
      "epoch      trn_loss   val_loss   accuracy                   \n",
      "    0      1.491403   2.678981   0.1       \n",
      "    1      1.187516   2.74842    0.2237                     \n",
      "    2      0.996605   1.051909   0.6184                      \n",
      "    3      0.851205   0.984126   0.6622                      \n",
      "    4      0.753191   0.963182   0.6777                      \n",
      "    5      0.678458   0.882305   0.7001                      \n",
      "    6      0.606284   0.684817   0.7697                      \n",
      "    7      0.561461   0.679993   0.7688                      \n",
      "    8      0.527134   0.90337    0.7286                      \n",
      "    9      0.5038     0.754078   0.7538                      \n",
      "    10     0.452573   0.633484   0.7835                      \n",
      "    11     0.426208   0.609193   0.8014                      \n",
      "    12     0.387196   0.578991   0.8056                      \n",
      "    13     0.366651   0.50027    0.8334                      \n",
      "    14     0.338658   0.462992   0.8449                      \n",
      "    15     0.311444   0.533801   0.8278                      \n",
      "    16     0.285882   0.443918   0.8523                      \n",
      "    17     0.247423   0.424138   0.8561                      \n",
      "    18     0.210399   0.380704   0.8763                      \n",
      "    19     0.187349   0.360974   0.8835                      \n",
      "\n"
     ]
    },
    {
     "data": {
      "image/png": "[encoded data removed]",
      "text/plain": [
       "<Figure size 864x288 with 2 Axes>"
      ]
     },
     "metadata": {},
     "output_type": "display_data"
    }
   ],
   "source": [
    "m = Darknet([1, 2, 4, 6, 3], num_classes=10, nf=32)\n",
    "\n",
    "data = ImageClassifierData.from_paths(PATH, val_name='test', tfms=tfms, bs=bs)\n",
    "learn = ConvLearner.from_model_data(m, data)\n",
    "learn.crit = nn.CrossEntropyLoss()\n",
    "learn.metrics = [accuracy]\n",
    "\n",
    "learn.fit_opt_sched(phases_1cycle(20, 1e-2, 10, 10, 0.95, 0.85))\n",
    "learn.sched.plot_lr(show_text=False)"
   ]
  },
  {
   "cell_type": "markdown",
   "metadata": {},
   "source": [
    "## Check pre-trained ResNet on CIFAR \n",
    "* Use standard architecture (ResNet50)"
   ]
  },
  {
   "cell_type": "code",
   "execution_count": null,
   "metadata": {},
   "outputs": [],
   "source": [
    "num_workers = 4\n",
    "bs=64\n",
    "sz=32\n",
    "stats = (np.array([ 0.4914 ,  0.48216,  0.44653]), np.array([ 0.24703,  0.24349,  0.26159]))\n",
    "\n",
    "tfms = tfms_from_stats(stats, sz, aug_tfms=[RandomFlip()], pad=sz//8)\n",
    "data = ImageClassifierData.from_paths(PATH, val_name='test', tfms=tfms, bs=bs)"
   ]
  },
  {
   "cell_type": "code",
   "execution_count": null,
   "metadata": {},
   "outputs": [],
   "source": []
  },
  {
   "cell_type": "code",
   "execution_count": null,
   "metadata": {},
   "outputs": [],
   "source": [
    "tfms = tfms_from_model(arch, sz, aug_tfms=transforms_side_on, max_zoom=1.1)\n",
    "\n",
    "data = ImageClassifierData.from_paths(PATH, tfms=tfms, bs=bs, num_workers=4)\n",
    "learn = ConvLearner.pretrained(arch, data, precompute=True,"
   ]
  },
  {
   "cell_type": "code",
   "execution_count": null,
   "metadata": {},
   "outputs": [],
   "source": []
  },
  {
   "cell_type": "code",
   "execution_count": null,
   "metadata": {},
   "outputs": [],
   "source": [
    "def run_genetic(data_loc, out_loc, generations, num_schedules, epochs, batch_size, momentum, kwargs):\n",
    "    \"\"\"Run the genetic algorithm on schedules for number of generations. Save best model at each generation and final best 5 models\n",
    "    \"\"\"\n",
    "\n",
    "    # initialize schedules:\n",
    "    population = create_population(num_schedules=num_schedules, epochs=epochs)\n",
    "\n",
    "    # Using the same training split for all, create data loaders\n",
    "    indexes = list(range(60000))\n",
    "    random.shuffle(indexes)\n",
    "    valid_frac = .2\n",
    "    train_samples_index = indexes[int(valid_frac*len(indexes)):]\n",
    "    valid_samples_index = indexes[0:int(valid_frac*len(indexes))]\n",
    "    train_loader, valid_loader, test_loader = MNIST_data_loaders(data_loc, train_samples_index, valid_samples_index, kwargs, batch_size=batch_size)\n",
    "\n",
    "    # Create network\n",
    "    model = SmallNet()\n",
    "    model.cuda()\n",
    "\n",
    "    # Store the top schedule and accuracy (tuples) as elements in a list.\n",
    "    history=[]\n",
    "\n",
    "    # Evolve the generation.\n",
    "    for i in range(generations):\n",
    "        print('Running generation: ', i)\n",
    "        pop_perf = model.get_population_perf(population, train_loader, valid_loader, test_loader, momentum)\n",
    "        pop_perf = [x for x in sorted(pop_perf, key=lambda x: x[0], reverse=True)]\n",
    "        history.append(pop_perf[0])\n",
    "\n",
    "        # print average accuracy, best accuracy, and best schedule\n",
    "        perf_only = [x[0] for x in pop_perf]\n",
    "        avg = sum(perf_only)/len(perf_only)\n",
    "        print('Avg acc: ', avg, 'best acc: ', pop_perf[0][0])\n",
    "        print('Schedule: ',[ '%.5f' % elem for elem in pop_perf[0][1]])\n",
    "\n",
    "        # Evolve\n",
    "        population = evolve(pop_perf)\n",
    "\n",
    "    # get final accuracy, and print the top 5 sorted\n",
    "    pop_perf = model.get_population_perf(population, train_loader, valid_loader, test_loader, momentum)\n",
    "    pop_perf = [x for x in sorted(pop_perf, key=lambda x: x[0], reverse=True)]\n",
    "\n",
    "    # Print out the top 5 networks.\n",
    "    print('Final Results: ', pop_perf[:5])\n",
    "\n",
    "    # save history as a pickle file\n",
    "    out_file = os.path.join(out_loc, 'evol_mnist_gener_'+str(generations)+'_numsch_'+str(epochs)+'_epochs_'+str(epochs))\n",
    "    pickle.dump(history, open(out_file, 'wb'))\n",
    "\n",
    "run_genetic(args.data_loc, args.out_loc, args.generations, args.num_schedules, args.epochs, args.batch_size, args.momentum, kwargs)\n"
   ]
  }
 ],
 "metadata": {
  "kernelspec": {
   "display_name": "Python 3",
   "language": "python",
   "name": "python3"
  },
  "language_info": {
   "codemirror_mode": {
    "name": "ipython",
    "version": 3
   },
   "file_extension": ".py",
   "mimetype": "text/x-python",
   "name": "python",
   "nbconvert_exporter": "python",
   "pygments_lexer": "ipython3",
   "version": "3.6.5"
  }
 },
 "nbformat": 4,
 "nbformat_minor": 2
}
