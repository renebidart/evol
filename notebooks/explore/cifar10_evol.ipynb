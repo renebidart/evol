{
 "cells": [
  {
   "cell_type": "markdown",
   "metadata": {},
   "source": [
    "# Learning rate/momentum schedules trained from scratch\n",
    "The default to investigate will be resnet50 with CIFAR10\n",
    "\n",
    "Look at a number of epochs just short of where we think it will converge, so we are aiming for a high accuracy, but not taking too long. (Aim for 94% accuracy.)\n",
    "\n",
    "As a compromise between a fully flexible model for learning rates (which won't work with evolutionary algorithms), or using something inflexible like choosing a global learning rate, we choose two learning rates for each epoch, and linearly scale between these during the epoch.\n",
    "\n",
    "Try:\n",
    "* Finding optimal learning rate given common momemtum initialization. \n",
    "* Find optimal momentum given a sensible learning rate schedule.\n",
    "* Try optimizing both at the same time.\n",
    "\n",
    "Maybe:\n",
    "* Look at how the learning rates evolve from a bad initialization to a sensible one (gif)\n",
    "* look at how optimal learning rate schedule changes based on the momemtum used.\n",
    "\n",
    "\n",
    "** Be careful to reinitialize the pytorch/fastai model each time, so we don't start fine tuning an existing model**"
   ]
  },
  {
   "cell_type": "code",
   "execution_count": 1,
   "metadata": {},
   "outputs": [
    {
     "name": "stdout",
     "output_type": "stream",
     "text": [
      "/media/rene/Data/learn-lr/src\n",
      "True\n",
      "1\n"
     ]
    }
   ],
   "source": [
    "import os\n",
    "import sys\n",
    "import glob\n",
    "import random\n",
    "import pickle\n",
    "import numpy as np\n",
    "import pandas as pd\n",
    "from tqdm import tqdm\n",
    "\n",
    "from fastai.imports import *\n",
    "from fastai.transforms import *\n",
    "from fastai.conv_learner import *\n",
    "from fastai.model import *\n",
    "from fastai.dataset import *\n",
    "from fastai.sgdr import *\n",
    "from fastai.plots import *\n",
    "\n",
    "from torchvision import datasets, models, transforms\n",
    "\n",
    "fast_ai_dir = '/media/rene/Data/fastai/'\n",
    "sys.path.append(fast_ai_dir)\n",
    "\n",
    "# ??????????????? this may be causing an error:\n",
    "SEED = 101\n",
    "np.random.seed(SEED)\n",
    "\n",
    "%reload_ext autoreload\n",
    "%autoreload 2\n",
    "%matplotlib inline\n",
    "\n",
    "# Add the src directory for functions\n",
    "src_dir = os.path.join(os.path.dirname(os.path.dirname(os.getcwd())), 'src')\n",
    "print(src_dir)\n",
    "sys.path.append(src_dir)\n",
    "\n",
    "# import my functions:\n",
    "from genetic import*\n",
    "\n",
    "torch.cuda.set_device(1)\n",
    "print(torch.cuda.is_available())\n",
    "print(torch.cuda.current_device())"
   ]
  },
  {
   "cell_type": "code",
   "execution_count": 2,
   "metadata": {},
   "outputs": [],
   "source": [
    "PATH = \"/media/rene/Data/data/cifar10/\""
   ]
  },
  {
   "cell_type": "code",
   "execution_count": 3,
   "metadata": {},
   "outputs": [],
   "source": [
    "def conv_layer(ni, nf, ks=3, stride=1):\n",
    "    return nn.Sequential(\n",
    "        nn.Conv2d(ni, nf, kernel_size=ks, bias=False, stride=stride, padding=ks//2),\n",
    "        nn.BatchNorm2d(nf, momentum=0.01),\n",
    "        nn.LeakyReLU(negative_slope=0.1, inplace=True))\n",
    "\n",
    "class ResLayer(nn.Module):\n",
    "    def __init__(self, ni):\n",
    "        super().__init__()\n",
    "        self.conv1=conv_layer(ni, ni//2, ks=1)\n",
    "        self.conv2=conv_layer(ni//2, ni, ks=3)\n",
    "        \n",
    "    def forward(self, x): \n",
    "        return x.add(self.conv2(self.conv1(x)))\n",
    "#        return x.add_(self.conv2(self.conv1(x)))\n",
    "\n",
    "class Darknet(nn.Module):\n",
    "    def make_group_layer(self, ch_in, num_blocks, stride=1):\n",
    "        return [conv_layer(ch_in, ch_in*2,stride=stride)\n",
    "               ] + [(ResLayer(ch_in*2)) for i in range(num_blocks)]\n",
    "\n",
    "    def __init__(self, num_blocks, num_classes, nf=32):\n",
    "        super().__init__()\n",
    "        layers = [conv_layer(3, nf, ks=3, stride=1)]\n",
    "        for i,nb in enumerate(num_blocks):\n",
    "            layers += self.make_group_layer(nf, nb, stride=2-(i==1))\n",
    "            nf *= 2\n",
    "        layers += [nn.AdaptiveAvgPool2d(1), Flatten(), nn.Linear(nf, num_classes)]\n",
    "        self.layers = nn.Sequential(*layers)\n",
    "    \n",
    "    def forward(self, x): return self.layers(x)"
   ]
  },
  {
   "cell_type": "code",
   "execution_count": 4,
   "metadata": {},
   "outputs": [],
   "source": [
    "def phases_linear(lr_sch, mom_sch):\n",
    "    training_phase_schedule = []\n",
    "    for ind in range(0, len(lr_sch), 2):\n",
    "        ind = int(ind)\n",
    "        curr_sch = TrainingPhase(epochs=1, opt_fn=optim.SGD, lr=(lr_sch[ind], lr_sch[ind+1]), lr_decay=DecayType.LINEAR, \n",
    "                          momentum=(mom_sch[ind],mom_sch[ind+1]), momentum_decay=DecayType.LINEAR)\n",
    "        \n",
    "        training_phase_schedule.append(curr_sch)\n",
    "    return training_phase_schedule"
   ]
  },
  {
   "cell_type": "code",
   "execution_count": 5,
   "metadata": {},
   "outputs": [],
   "source": [
    "def get_darknet_perf(PATH, lr_sch_list, mom_sch_list, downsample, acc_dict={}, bs=512):\n",
    "    num_workers = 4\n",
    "    sz=32\n",
    "\n",
    "    pop_perf = []\n",
    "\n",
    "    for ind in range(len(lr_sch_list)):\n",
    "        # if schedule already tested, return this acc\n",
    "        if(tuple(lr_sch_list[ind]+mom_sch_list[ind]) in acc_dict):\n",
    "            acc = acc_dict[tuple(lr_sch_list[ind]+mom_sch_list[ind])]\n",
    "            pop_perf.append([acc, lr_sch_list[ind], mom_sch_list[ind]])\n",
    "        else:\n",
    "            stats = (np.array([ 0.4914 ,  0.48216,  0.44653]), np.array([ 0.24703,  0.24349,  0.26159]))\n",
    "            tfms = tfms_from_stats(stats, sz, aug_tfms=[RandomFlip()], pad=32//8)\n",
    "            data = ImageClassifierData.from_paths(PATH, val_name='test', tfms=tfms, bs=bs)\n",
    "\n",
    "            m = Darknet([1, 2, 4, 6, 3], num_classes=10, nf=32)\n",
    "            data = ImageClassifierData.from_paths(PATH, val_name='test', tfms=tfms, bs=bs)\n",
    "            learn = ConvLearner.from_model_data(m, data)\n",
    "            learn.crit = nn.CrossEntropyLoss()\n",
    "            learn.metrics = [accuracy]\n",
    "\n",
    "            learn.fit_opt_sched(phases_linear(lr_sch_list[ind], mom_sch_list[ind]))\n",
    "#             learn.sched.plot_lr(show_text=False)\n",
    "            preds, y = learn.predict_with_targs()\n",
    "            acc = accuracy_np(preds, y)\n",
    "            \n",
    "            pop_perf.append([acc, lr_sch_list[ind], mom_sch_list[ind]])\n",
    "            acc_dict[tuple(lr_sch_list[ind]+mom_sch_list[ind])] = acc\n",
    "            \n",
    "    return pop_perf, acc_dict"
   ]
  },
  {
   "cell_type": "code",
   "execution_count": 6,
   "metadata": {},
   "outputs": [],
   "source": [
    "def run_genetic_darknet(PATH, out_loc, generations, epochs, init_lr_sch, init_mom_sch, downsample=1, evolve_lr=True, evolve_mom=False):\n",
    "    \"\"\"Run the genetic algorithm on schedules for number of generations. \n",
    "    Save best model at each generation and final best 5 models\n",
    "    \n",
    "    Take as input lr and mom schedules that are the correct length (=epochs)\n",
    "    \n",
    "    Downsampling is only used for the evolution part. All other parts use the full length of schedules.\n",
    "    \"\"\"\n",
    "    bs=512\n",
    "\n",
    "    lr_sch = init_lr_sch\n",
    "    mom_sch = init_mom_sch\n",
    "\n",
    "    # Store the top schedule and accuracy (tuples) as elements in a list.\n",
    "    history=[]\n",
    "    # same info, but easier format to search:\n",
    "    acc_dict = {}\n",
    "\n",
    "    # Evolve the generation.\n",
    "    for i in range(generations):\n",
    "        print('Running generation: ', i)\n",
    "            \n",
    "        pop_perf, acc_dict_tmp = get_darknet_perf(PATH, lr_sch, mom_sch, downsample, acc_dict, bs)\n",
    "        pop_perf = [x for x in sorted(pop_perf, key=lambda x: x[0], reverse=True)]\n",
    "        history.append(pop_perf)\n",
    "        acc_dict.update(acc_dict_tmp)\n",
    "\n",
    "        # save the intermediate result every generation\n",
    "        out_file = os.path.join(out_loc, 'cifar_darknet_'+'on_gen_'+str(i))\n",
    "        pickle.dump(history, open(out_file, 'wb'))\n",
    "\n",
    "        # print average accuracy, best accuracy, and best schedule\n",
    "        perf_only = [x[0] for x in pop_perf]\n",
    "        avg = sum(perf_only)/len(perf_only)\n",
    "        print('Avg acc: ', avg, 'best acc: ', pop_perf[0][0])\n",
    "        print('LR Schedule: ',[ '%.5f' % elem for elem in pop_perf[0][1]])\n",
    "\n",
    "        # Evolve\n",
    "        lr_perf = [[x[0], x[1]] for x in pop_perf]\n",
    "        mom_perf = [[x[0], x[2]] for x in pop_perf]\n",
    "        if evolve_lr:\n",
    "            # downsample it for evolution\n",
    "            lr_perf = [[x[0], x[1][::downsample]] for x in lr_perf]\n",
    "            lr_sch = evolve(lr_perf, breed_slice)\n",
    "            # upsample it back to normal\n",
    "            lr_sch = [np.repeat(np.array(x), int(downsample)).tolist() for x in lr_sch]\n",
    "        if evolve_mom:\n",
    "            # downsample it for evolution\n",
    "            mom_perf = [[x[0], x[1][::downsample]] for x in mom_perf]\n",
    "            mom_sch = evolve(mom_perf, breed_slice)\n",
    "            # upsample it back to normal\n",
    "            mom_sch = [np.repeat(np.array(x), int(downsample)).tolist() for x in mom_sch]\n",
    "\n",
    "    # get final accuracy, and print the top 5 sorted\n",
    "    pop_perf = get_darknet_perf(PATH, lr_sch, mom_sch, downsample=downsample)\n",
    "    pop_perf = [x for x in sorted(pop_perf, key=lambda x: x[0], reverse=True)]\n",
    "\n",
    "    # Print out the top 5 networks.=\n",
    "    print('Final Results: ', pop_perf[:5])\n",
    "\n",
    "    # save history as a pickle file\n",
    "    out_file = os.path.join(out_loc, 'cifar_dark_'+str(generations)+'_numsch_'+str(epochs)+'_on_gen_'+str(i+29))\n",
    "    pickle.dump(history, open(out_file, 'wb'))"
   ]
  },
  {
   "cell_type": "code",
   "execution_count": 7,
   "metadata": {},
   "outputs": [],
   "source": [
    "# PATH = \"/media/rene/Data/data/cifar10/\"\n",
    "# out_loc = '/media/rene/Data/data/learn-lr/output'\n",
    "# num_schedules = 12\n",
    "# epochs= 50 # actually 25, but requires 2 lrs for each epoch\n",
    "# generations = 30\n",
    "\n",
    "# init_lr_sch = [[.001]*epochs]*num_schedules\n",
    "# init_mom_sch = [[.9]*epochs]*num_schedules\n",
    "\n",
    "# run_genetic(PATH, out_loc, generations, num_schedules, epochs, init_lr_sch, init_mom_sch)"
   ]
  },
  {
   "cell_type": "markdown",
   "metadata": {},
   "source": [
    "## try evolving with a downsample to make it converge faster\n",
    "* Only 10 epochs"
   ]
  },
  {
   "cell_type": "code",
   "execution_count": null,
   "metadata": {},
   "outputs": [
    {
     "name": "stdout",
     "output_type": "stream",
     "text": [
      "Running generation:  0\n"
     ]
    },
    {
     "data": {
      "application/vnd.jupyter.widget-view+json": {
       "model_id": "4cfc5836c67c40ecb2c9e1adf0fec4a3",
       "version_major": 2,
       "version_minor": 0
      },
      "text/plain": [
       "HBox(children=(IntProgress(value=0, description='Epoch', max=10), HTML(value='')))"
      ]
     },
     "metadata": {},
     "output_type": "display_data"
    },
    {
     "name": "stdout",
     "output_type": "stream",
     "text": [
      " 20%|██        | 10/49 [00:10<00:39,  1.03s/it, loss=2.24]"
     ]
    },
    {
     "name": "stderr",
     "output_type": "stream",
     "text": [
      "/home/rene/miniconda3/envs/fastai/lib/python3.6/site-packages/tqdm/_monitor.py:89: TqdmSynchronisationWarning: Set changed size during iteration (see https://github.com/tqdm/tqdm/issues/481)\n",
      "  TqdmSynchronisationWarning)\n"
     ]
    },
    {
     "name": "stdout",
     "output_type": "stream",
     "text": [
      "epoch      trn_loss   val_loss   accuracy                 \n",
      "    0      1.76272    2.336124   0.1       \n",
      "    1      1.488335   2.464975   0.1                      \n",
      "    2      1.302561   2.62875    0.1                      \n",
      "    3      1.204306   2.850268   0.1                      \n",
      "    4      1.154069   3.131063   0.1                      \n",
      "    5      1.081753   3.50639    0.1335                   \n",
      "    6      0.912411   3.344451   0.2092                    \n",
      "    7      0.889544   1.522101   0.4901                    \n",
      "    8      0.768719   0.836405   0.7167                    \n",
      "    9      0.655722   0.774927   0.7384                    \n",
      "\n"
     ]
    },
    {
     "data": {
      "application/vnd.jupyter.widget-view+json": {
       "model_id": "0f6c2280437a41739003ee455b11b742",
       "version_major": 2,
       "version_minor": 0
      },
      "text/plain": [
       "HBox(children=(IntProgress(value=0, description='Epoch', max=10), HTML(value='')))"
      ]
     },
     "metadata": {},
     "output_type": "display_data"
    },
    {
     "name": "stdout",
     "output_type": "stream",
     "text": [
      "epoch      trn_loss   val_loss   accuracy                 \n",
      "    0      1.750896   2.345319   0.1       \n",
      "    1      1.502292   2.482707   0.1                      \n",
      "    2      1.359872   2.665594   0.1                      \n",
      "    3      1.289969   2.936185   0.1                      \n",
      "    4      1.176245   3.557883   0.1                      \n",
      "    5      0.966499   3.511549   0.1071                    \n",
      "    6      0.853685   3.10309    0.154                     \n",
      "    7      0.802646   2.362345   0.216                     \n",
      "    8      0.764081   1.549014   0.4787                    \n",
      "    9      0.680907   0.912557   0.6882                    \n",
      "\n"
     ]
    },
    {
     "data": {
      "application/vnd.jupyter.widget-view+json": {
       "model_id": "7c5f343790564f4aa90029c12a775d28",
       "version_major": 2,
       "version_minor": 0
      },
      "text/plain": [
       "HBox(children=(IntProgress(value=0, description='Epoch', max=10), HTML(value='')))"
      ]
     },
     "metadata": {},
     "output_type": "display_data"
    },
    {
     "name": "stdout",
     "output_type": "stream",
     "text": [
      "epoch      trn_loss   val_loss   accuracy                 \n",
      "    0      1.705489   2.359227   0.1       \n",
      "    1      1.427817   2.542624   0.1                      \n",
      "    2      1.262211   2.750753   0.1                      \n",
      "    3      1.173734   3.003311   0.1                      \n",
      "    4      1.107216   3.297558   0.1                      \n",
      "    5      1.361537   2.523078   0.2047                   \n",
      "    6      1.173647   2.689376   0.2295                   \n",
      "    7      1.036351   2.608458   0.221                    \n",
      "    8      0.946574   1.871012   0.3733                    \n",
      "    9      0.839522   1.444472   0.5291                    \n",
      "\n"
     ]
    },
    {
     "data": {
      "application/vnd.jupyter.widget-view+json": {
       "model_id": "1936f355e0fe4073b099490dfec47d04",
       "version_major": 2,
       "version_minor": 0
      },
      "text/plain": [
       "HBox(children=(IntProgress(value=0, description='Epoch', max=10), HTML(value='')))"
      ]
     },
     "metadata": {},
     "output_type": "display_data"
    },
    {
     "name": "stdout",
     "output_type": "stream",
     "text": [
      "epoch      trn_loss   val_loss   accuracy                 \n",
      "    0      1.62957    2.353747   0.1       \n",
      "    1      1.332967   2.470502   0.1                      \n",
      "    2      1.115864   2.64283    0.1                      \n",
      "    3      0.998165   2.863271   0.1                       \n",
      "    4      1.023671   3.209939   0.1037                   \n",
      "    5      0.873969   3.402843   0.1507                    \n",
      "    6      0.811806   3.087544   0.1869                    \n",
      "    7      0.740539   2.13206    0.3465                    \n",
      "    8      0.635742   1.161597   0.6077                    \n",
      "    9      0.648281   0.787671   0.7227                    \n",
      "\n"
     ]
    },
    {
     "data": {
      "application/vnd.jupyter.widget-view+json": {
       "model_id": "c84a9964563442d3b9128ae05c1bcd20",
       "version_major": 2,
       "version_minor": 0
      },
      "text/plain": [
       "HBox(children=(IntProgress(value=0, description='Epoch', max=10), HTML(value='')))"
      ]
     },
     "metadata": {},
     "output_type": "display_data"
    },
    {
     "name": "stdout",
     "output_type": "stream",
     "text": [
      "epoch      trn_loss   val_loss   accuracy                 \n",
      "    0      2.029406   2.307782   0.1       \n",
      "    1      1.753898   2.349877   0.1                      \n",
      "    2      1.528346   2.503102   0.1                      \n",
      " 47%|████▋     | 23/49 [00:20<00:23,  1.11it/s, loss=1.43]"
     ]
    }
   ],
   "source": [
    "PATH = \"/media/rene/Data/data/cifar10/\"\n",
    "out_loc = '/media/rene/Data/data/learn-lr/output'\n",
    "num_schedules = 10\n",
    "epochs = 10\n",
    "generations = 30\n",
    "downsample = 2\n",
    "\n",
    "# Initialize schedules. Need 2 points for every epoch. \n",
    "size = int(2*epochs/downsample)\n",
    "init_lr_sch = create_population(num_schedules, size=size, rate_range=(-3, -1.5))\n",
    "init_mom_sch = [[.9]*size]*num_schedules\n",
    "\n",
    "init_lr_sch = [np.repeat(np.array(x), int(downsample)).tolist() for x in init_lr_sch]\n",
    "init_mom_sch = [np.repeat(np.array(x), int(downsample)).tolist() for x in init_mom_sch]\n",
    "\n",
    "run_genetic(PATH, out_loc, generations, epochs, init_lr_sch, init_mom_sch,\n",
    "            downsample=downsample, evolve_lr=True, evolve_mom=False)"
   ]
  },
  {
   "cell_type": "markdown",
   "metadata": {},
   "source": [
    "## More epochs, initialization as the 30th epoch as last"
   ]
  },
  {
   "cell_type": "code",
   "execution_count": null,
   "metadata": {},
   "outputs": [
    {
     "name": "stdout",
     "output_type": "stream",
     "text": [
      "Running generation:  0\n"
     ]
    },
    {
     "data": {
      "application/vnd.jupyter.widget-view+json": {
       "model_id": "4f58f9d7dd2b4481a0bf3c3e22bb43a4",
       "version_major": 2,
       "version_minor": 0
      },
      "text/plain": [
       "HBox(children=(IntProgress(value=0, description='Epoch', max=10), HTML(value='')))"
      ]
     },
     "metadata": {},
     "output_type": "display_data"
    },
    {
     "name": "stdout",
     "output_type": "stream",
     "text": [
      " 14%|█▍        | 7/49 [00:09<00:59,  1.40s/it, loss=2.35]"
     ]
    },
    {
     "name": "stderr",
     "output_type": "stream",
     "text": [
      "/home/rene/miniconda3/envs/fastai/lib/python3.6/site-packages/tqdm/_monitor.py:89: TqdmSynchronisationWarning: Set changed size during iteration (see https://github.com/tqdm/tqdm/issues/481)\n",
      "  TqdmSynchronisationWarning)\n"
     ]
    },
    {
     "name": "stdout",
     "output_type": "stream",
     "text": [
      "epoch      trn_loss   val_loss   accuracy                 \n",
      "    0      2.283515   2.305108   0.1       \n",
      "    1      1.999742   2.336768   0.1                      \n",
      "    2      1.718451   2.557775   0.1                      \n",
      "    3      1.365937   2.782262   0.13                     \n",
      "    4      1.157016   3.111579   0.1273                   \n",
      "    5      1.808099   2601986.54 0.1                      \n",
      "    6      1.766698   42.128527  0.1104                   \n",
      "    7      1.645405   2.863282   0.2313                   \n",
      "    8      1.454962   1.704333   0.3907                   \n",
      "    9      1.33504    1.338116   0.5076                   \n",
      "\n"
     ]
    },
    {
     "data": {
      "application/vnd.jupyter.widget-view+json": {
       "model_id": "41b3551fd4e44f2abbf93cea84bf1773",
       "version_major": 2,
       "version_minor": 0
      },
      "text/plain": [
       "HBox(children=(IntProgress(value=0, description='Epoch', max=10), HTML(value='')))"
      ]
     },
     "metadata": {},
     "output_type": "display_data"
    },
    {
     "name": "stdout",
     "output_type": "stream",
     "text": [
      "epoch      trn_loss   val_loss   accuracy                 \n",
      "    0      2.262697   2.30328    0.1       \n",
      "    1      2.050677   2.317272   0.1                      \n",
      "    2      2.12572    2.150761   0.1761                   \n",
      "    3      1.887874   2.111128   0.2042                   \n",
      "    4      1.735553   2.135879   0.2025                   \n",
      "    5      2.351773   27546304.8768 0.1                   \n",
      "    6      2.195941   480.970344 0.1065                   \n",
      "    7      2.104715   13.629117  0.1169                   \n",
      "    8      2.052984   2.875001   0.1747                   \n",
      "    9      2.024229   2.157213   0.1893                   \n",
      "\n"
     ]
    },
    {
     "data": {
      "application/vnd.jupyter.widget-view+json": {
       "model_id": "af49e5f185b845e387be5a6148399e7e",
       "version_major": 2,
       "version_minor": 0
      },
      "text/plain": [
       "HBox(children=(IntProgress(value=0, description='Epoch', max=10), HTML(value='')))"
      ]
     },
     "metadata": {},
     "output_type": "display_data"
    },
    {
     "name": "stdout",
     "output_type": "stream",
     "text": [
      "epoch      trn_loss   val_loss   accuracy                 \n",
      "    0      2.247615   2.304168   0.1       \n",
      "    1      2.145903   2.312491   0.1                      \n",
      "    2      2.139246   236.702749 0.136                    \n",
      "    3      1.92858    3.06865    0.1906                   \n",
      "    4      1.802234   2.181834   0.1781                   \n",
      "    5      1.728671   2.053153   0.2152                   \n",
      "    6      1.691644   1.947203   0.2984                   \n",
      "    7      1.61286    1.984522   0.3204                   \n",
      "    8      1.540898   2.031003   0.3007                   \n",
      "    9      1.435026   1.852354   0.3533                   \n",
      "\n"
     ]
    },
    {
     "data": {
      "application/vnd.jupyter.widget-view+json": {
       "model_id": "2e3d23bcb4c4493392c094761145c8f3",
       "version_major": 2,
       "version_minor": 0
      },
      "text/plain": [
       "HBox(children=(IntProgress(value=0, description='Epoch', max=10), HTML(value='')))"
      ]
     },
     "metadata": {},
     "output_type": "display_data"
    },
    {
     "name": "stdout",
     "output_type": "stream",
     "text": [
      "epoch      trn_loss   val_loss   accuracy                 \n",
      "    0      2.290313   2.304025   0.0997    \n",
      "    1      1.931442   2.359478   0.1                      \n",
      "    2      1.646011   2.629134   0.1276                   \n",
      "    3      1.308254   2.863509   0.1097                   \n",
      "    4      1.100997   3.140386   0.1292                   \n",
      "    5      1.734123   156095.919525 0.1                   \n",
      "    6      1.636671   259.029155 0.1597                   \n",
      "    7      1.593059   2248.519328 0.1001                  \n",
      "    8      1.431822   5.0846     0.1679                   \n",
      "    9      1.333839   1.606923   0.4221                   \n",
      "\n"
     ]
    },
    {
     "data": {
      "application/vnd.jupyter.widget-view+json": {
       "model_id": "2b297cdf92f1496192d5db4ab0988b86",
       "version_major": 2,
       "version_minor": 0
      },
      "text/plain": [
       "HBox(children=(IntProgress(value=0, description='Epoch', max=10), HTML(value='')))"
      ]
     },
     "metadata": {},
     "output_type": "display_data"
    },
    {
     "name": "stdout",
     "output_type": "stream",
     "text": [
      "epoch      trn_loss   val_loss   accuracy                 \n",
      "    0      2.27029    2.304161   0.1       \n",
      "    1      1.980644   2.3326     0.1                      \n",
      "    2      1.919986   2.448439   0.1566                   \n",
      "    3      1.637478   2.741674   0.1326                   \n",
      "    4      1.462859   2.697503   0.2098                   \n",
      "    5      463.16035  1.7570913218788446e+19 0.1          \n",
      "    6      653.742768 1967362.622 0.1                    \n",
      "    7      413.399526 89432.0833 0.1101                  \n",
      "    8      221.86745  334.733305 0.1152                  \n",
      "    9      95.882285  110.823814 0.113                    \n",
      "\n"
     ]
    },
    {
     "data": {
      "application/vnd.jupyter.widget-view+json": {
       "model_id": "dc3073657acf4b629f8b26e6356782e3",
       "version_major": 2,
       "version_minor": 0
      },
      "text/plain": [
       "HBox(children=(IntProgress(value=0, description='Epoch', max=10), HTML(value='')))"
      ]
     },
     "metadata": {},
     "output_type": "display_data"
    },
    {
     "name": "stdout",
     "output_type": "stream",
     "text": [
      "epoch      trn_loss   val_loss   accuracy                 \n",
      "    0      2.252823   2.30379    0.1       \n",
      "    1      1.926873   2.353877   0.1                      \n",
      "    2      1.824195   2.632744   0.1047                   \n",
      "    3      1.442593   2.798235   0.1335                   \n",
      "    4      1.221251   3.019904   0.1248                   \n",
      "    5      11.752094  43622084896.3584 0.1                \n",
      "    6      8.108212   264505.05995 0.1                    \n",
      "    7      4.714086   1057.362969 0.094                   \n",
      "    8      3.236821   21.51793   0.1007                   \n",
      "    9      2.668886   3.282271   0.1214                   \n",
      "\n",
      "Avg acc:  0.25525 best acc:  0.5076\n",
      "LR Schedule:  ['0.00014', '0.00014', '0.00160', '0.00160', '0.03087', '0.03087', '0.00913', '0.00913', '0.00617', '0.00617', '0.07097', '0.07097', '0.01987', '0.01987', '0.12157', '0.12157', '0.02205', '0.02205', '0.00362', '0.00362']\n",
      "Running generation:  1\n"
     ]
    },
    {
     "data": {
      "application/vnd.jupyter.widget-view+json": {
       "model_id": "1aca4c20338c43ada6dab6627b301486",
       "version_major": 2,
       "version_minor": 0
      },
      "text/plain": [
       "HBox(children=(IntProgress(value=0, description='Epoch', max=10), HTML(value='')))"
      ]
     },
     "metadata": {},
     "output_type": "display_data"
    },
    {
     "name": "stdout",
     "output_type": "stream",
     "text": [
      "epoch      trn_loss   val_loss   accuracy                 \n",
      "    0      1.795454   2.325986   0.1       \n",
      "    1      1.555438   2.41376    0.0999                   \n",
      "    2      1.452129   2.563471   0.1                      \n",
      "    3      1.180025   2.731787   0.1                      \n",
      "    4      1.009069   2.929607   0.1001                   \n",
      "    5      1.848306   52156.878862 0.0892                 \n",
      "    6      1.867432   388.992247 0.1412                   \n",
      "    7      1.810211   7.021652   0.1566                   \n",
      "    8      1.633434   2.246714   0.2513                   \n",
      "    9      1.526381   1.641023   0.389                    \n",
      "\n"
     ]
    },
    {
     "data": {
      "application/vnd.jupyter.widget-view+json": {
       "model_id": "c6ef20c84fe84094b4fdae623c33d333",
       "version_major": 2,
       "version_minor": 0
      },
      "text/plain": [
       "HBox(children=(IntProgress(value=0, description='Epoch', max=10), HTML(value='')))"
      ]
     },
     "metadata": {},
     "output_type": "display_data"
    },
    {
     "name": "stdout",
     "output_type": "stream",
     "text": [
      "epoch      trn_loss   val_loss   accuracy                 \n",
      "    0      2.308778   2.303168   0.1       \n",
      "    1      1.980542   2.322263   0.1                      \n",
      "    2      1.705143   2.370481   0.1071                   \n",
      "    3      1.336987   2.46793    0.1                      \n",
      "    4      1.133111   2.560596   0.1182                   \n",
      "    5      1.440676   80.417326  0.0993                   \n",
      "    6      1.23687    1.369675   0.4924                   \n",
      "    7      1.18844    5.434407   0.3557                   \n",
      "    8      0.979861   1.30236    0.5806                    \n",
      "    9      0.858317   0.884255   0.6887                    \n",
      "\n"
     ]
    },
    {
     "data": {
      "application/vnd.jupyter.widget-view+json": {
       "model_id": "06a870f48f1e4977b2a2b2ef78a0a4b5",
       "version_major": 2,
       "version_minor": 0
      },
      "text/plain": [
       "HBox(children=(IntProgress(value=0, description='Epoch', max=10), HTML(value='')))"
      ]
     },
     "metadata": {},
     "output_type": "display_data"
    },
    {
     "name": "stdout",
     "output_type": "stream",
     "text": [
      "epoch      trn_loss   val_loss   accuracy                 \n",
      "    0      2.296268   2.303198   0.1       \n",
      "    1      1.935737   2.349488   0.1                      \n",
      "    2      1.686553   2.558487   0.1092                   \n",
      "    3      1.364555   2.744092   0.1033                   \n",
      "    4      1.162883   2.987279   0.1755                   \n",
      "    5      1.760678   225444.742675 0.1                   \n",
      "    6      1.678678   50.542768  0.1048                   \n",
      " 94%|█████████▍| 46/49 [00:38<00:02,  1.18it/s, loss=1.56]"
     ]
    }
   ],
   "source": [
    "PATH = \"/media/rene/Data/data/cifar10/\"\n",
    "out_loc = '/media/rene/Data/data/learn-lr/output'\n",
    "num_schedules = 10\n",
    "epochs = 10\n",
    "generations = 100\n",
    "downsample = 2\n",
    "\n",
    "data = pickle.load( open( \"/media/rene/Data/data/learn-lr/output/cifar_darknet_30_numsch_10on_gen_29\", \"rb\" ) )\n",
    "# get last lr initializaions\n",
    "init_lr_sch = [x[1] for x in data[len(data)-1]]\n",
    "init_mom_sch = [x[2] for x in data[len(data)-1]]\n",
    "\n",
    "run_genetic(PATH, out_loc, generations, epochs, init_lr_sch, init_mom_sch,\n",
    "            downsample=downsample, evolve_lr=True, evolve_mom=False)"
   ]
  },
  {
   "cell_type": "markdown",
   "metadata": {},
   "source": [
    "## From scratch - I don't know whats going on"
   ]
  },
  {
   "cell_type": "code",
   "execution_count": null,
   "metadata": {},
   "outputs": [
    {
     "name": "stdout",
     "output_type": "stream",
     "text": [
      "Running generation:  0\n"
     ]
    },
    {
     "data": {
      "application/vnd.jupyter.widget-view+json": {
       "model_id": "f2fbe92881c2444780be130f0239f662",
       "version_major": 2,
       "version_minor": 0
      },
      "text/plain": [
       "HBox(children=(IntProgress(value=0, description='Epoch', max=10), HTML(value='')))"
      ]
     },
     "metadata": {},
     "output_type": "display_data"
    },
    {
     "name": "stdout",
     "output_type": "stream",
     "text": [
      " 22%|██▏       | 22/98 [00:09<00:34,  2.20it/s, loss=1.98]"
     ]
    },
    {
     "name": "stderr",
     "output_type": "stream",
     "text": [
      "/home/rene/miniconda3/envs/fastai/lib/python3.6/site-packages/tqdm/_monitor.py:89: TqdmSynchronisationWarning: Set changed size during iteration (see https://github.com/tqdm/tqdm/issues/481)\n",
      "  TqdmSynchronisationWarning)\n"
     ]
    },
    {
     "name": "stdout",
     "output_type": "stream",
     "text": [
      "epoch      trn_loss   val_loss   accuracy                 \n",
      "    0      1.483868   2.485877   0.1       \n",
      "    1      1.174265   2.991347   0.1                      \n",
      "    2      0.919863   3.290612   0.1014                    \n",
      "    3      0.82754    2.822511   0.2439                    \n",
      "    4      0.913501   1.354136   0.6017                    \n",
      "    5      0.884934   13.35806   0.2856                    \n",
      "                                                           \r"
     ]
    }
   ],
   "source": [
    "# now try with bs of 512, instead of 2048. Seems large batch might be less stable?\n",
    "\n",
    "PATH = \"/media/rene/Data/data/cifar10\"\n",
    "out_loc = '/media/rene/Data/data/learn-lr/output/cifar_dark_10epoch_ds2_more_var'\n",
    "num_schedules = 12\n",
    "epochs = 10\n",
    "generations = 100\n",
    "downsample = 2\n",
    "\n",
    "# Initialize schedules. Need 2 points for every epoch. \n",
    "size = int(2*epochs/downsample)\n",
    "init_lr_sch = create_population(num_schedules, size=size, rate_range=(-3, -1))\n",
    "init_mom_sch = [[.9]*size]*num_schedules\n",
    "\n",
    "init_lr_sch = [np.repeat(np.array(x), int(downsample)).tolist() for x in init_lr_sch]\n",
    "init_mom_sch = [np.repeat(np.array(x), int(downsample)).tolist() for x in init_mom_sch]\n",
    "\n",
    "run_genetic_darknet(PATH, out_loc, generations, epochs, init_lr_sch, init_mom_sch,\n",
    "            downsample=downsample, evolve_lr=True, evolve_mom=False)"
   ]
  },
  {
   "cell_type": "code",
   "execution_count": null,
   "metadata": {},
   "outputs": [],
   "source": []
  },
  {
   "cell_type": "code",
   "execution_count": null,
   "metadata": {},
   "outputs": [],
   "source": []
  },
  {
   "cell_type": "code",
   "execution_count": null,
   "metadata": {},
   "outputs": [],
   "source": []
  },
  {
   "cell_type": "markdown",
   "metadata": {},
   "source": [
    "# Only a Test:"
   ]
  },
  {
   "cell_type": "code",
   "execution_count": null,
   "metadata": {},
   "outputs": [],
   "source": [
    "PATH = \"/media/rene/Data/data/cifar10/\"\n",
    "out_loc = '/media/rene/Data/data/learn-lr/output_test'# /cifar_dark_10epoch_ds2'\n",
    "num_schedules = 4\n",
    "epochs = 10\n",
    "generations = 100\n",
    "downsample = 2\n",
    "\n",
    "size = int(2*epochs/downsample)\n",
    "init_lr_sch = [[.003]*size]*num_schedules\n",
    "init_mom_sch = [[.9]*size]*num_schedules\n",
    "\n",
    "init_lr_sch = [np.repeat(np.array(x), int(downsample)).tolist() for x in init_lr_sch]\n",
    "init_mom_sch = [np.repeat(np.array(x), int(downsample)).tolist() for x in init_mom_sch]\n",
    "\n",
    "print(init_lr_sch)\n",
    "print(init_mom_sch)\n",
    "\n",
    "get_darknet_perf(PATH, init_lr_sch, init_mom_sch, downsample, acc_dict={}, bs=256)"
   ]
  },
  {
   "cell_type": "code",
   "execution_count": 11,
   "metadata": {},
   "outputs": [
    {
     "name": "stdout",
     "output_type": "stream",
     "text": [
      "[[0.01, 0.01, 0.01, 0.01, 0.01, 0.01, 0.01, 0.01, 0.01, 0.01, 0.01, 0.01, 0.01, 0.01, 0.01, 0.01, 0.01, 0.01, 0.01, 0.01], [0.01, 0.01, 0.01, 0.01, 0.01, 0.01, 0.01, 0.01, 0.01, 0.01, 0.01, 0.01, 0.01, 0.01, 0.01, 0.01, 0.01, 0.01, 0.01, 0.01], [0.01, 0.01, 0.01, 0.01, 0.01, 0.01, 0.01, 0.01, 0.01, 0.01, 0.01, 0.01, 0.01, 0.01, 0.01, 0.01, 0.01, 0.01, 0.01, 0.01], [0.01, 0.01, 0.01, 0.01, 0.01, 0.01, 0.01, 0.01, 0.01, 0.01, 0.01, 0.01, 0.01, 0.01, 0.01, 0.01, 0.01, 0.01, 0.01, 0.01]]\n",
      "[[0.9, 0.9, 0.9, 0.9, 0.9, 0.9, 0.9, 0.9, 0.9, 0.9, 0.9, 0.9, 0.9, 0.9, 0.9, 0.9, 0.9, 0.9, 0.9, 0.9], [0.9, 0.9, 0.9, 0.9, 0.9, 0.9, 0.9, 0.9, 0.9, 0.9, 0.9, 0.9, 0.9, 0.9, 0.9, 0.9, 0.9, 0.9, 0.9, 0.9], [0.9, 0.9, 0.9, 0.9, 0.9, 0.9, 0.9, 0.9, 0.9, 0.9, 0.9, 0.9, 0.9, 0.9, 0.9, 0.9, 0.9, 0.9, 0.9, 0.9], [0.9, 0.9, 0.9, 0.9, 0.9, 0.9, 0.9, 0.9, 0.9, 0.9, 0.9, 0.9, 0.9, 0.9, 0.9, 0.9, 0.9, 0.9, 0.9, 0.9]]\n"
     ]
    },
    {
     "name": "stderr",
     "output_type": "stream",
     "text": [
      "/home/rene/miniconda3/envs/fastai/lib/python3.6/site-packages/tqdm/_monitor.py:89: TqdmSynchronisationWarning: Set changed size during iteration (see https://github.com/tqdm/tqdm/issues/481)\n",
      "  TqdmSynchronisationWarning)\n"
     ]
    },
    {
     "name": "stdout",
     "output_type": "stream",
     "text": [
      "learning rate:  [0.01, 0.01, 0.01, 0.01, 0.01, 0.01, 0.01, 0.01, 0.01, 0.01, 0.01, 0.01, 0.01, 0.01, 0.01, 0.01, 0.01, 0.01, 0.01, 0.01]\n",
      "momentum rate:  [0.9, 0.9, 0.9, 0.9, 0.9, 0.9, 0.9, 0.9, 0.9, 0.9, 0.9, 0.9, 0.9, 0.9, 0.9, 0.9, 0.9, 0.9, 0.9, 0.9]\n"
     ]
    },
    {
     "data": {
      "application/vnd.jupyter.widget-view+json": {
       "model_id": "cff9a9c2d1ef4edb99e9c89b125b23c0",
       "version_major": 2,
       "version_minor": 0
      },
      "text/plain": [
       "HBox(children=(IntProgress(value=0, description='Epoch', max=10), HTML(value='')))"
      ]
     },
     "metadata": {},
     "output_type": "display_data"
    },
    {
     "name": "stdout",
     "output_type": "stream",
     "text": [
      "epoch      trn_loss   val_loss   accuracy                 \n",
      "    0      1.498015   2.536074   0.1       \n",
      "    1      1.197061   3.03305    0.1                      \n",
      "    2      0.991927   3.265555   0.1652                    \n",
      "    3      0.848125   1.896418   0.373                     \n",
      "    4      0.740859   0.813936   0.7063                    \n",
      "    5      0.657433   0.738824   0.7399                    \n",
      " 86%|████████▌ | 84/98 [00:32<00:05,  2.60it/s, loss=0.604]"
     ]
    },
    {
     "ename": "KeyboardInterrupt",
     "evalue": "",
     "output_type": "error",
     "traceback": [
      "\u001b[0;31m-----------------------------------------------------------\u001b[0m",
      "\u001b[0;31mKeyboardInterrupt\u001b[0m         Traceback (most recent call last)",
      "\u001b[0;32m<ipython-input-11-4aeed3b299f8>\u001b[0m in \u001b[0;36m<module>\u001b[0;34m()\u001b[0m\n\u001b[1;32m     16\u001b[0m \u001b[0mprint\u001b[0m\u001b[0;34m(\u001b[0m\u001b[0minit_mom_sch\u001b[0m\u001b[0;34m)\u001b[0m\u001b[0;34m\u001b[0m\u001b[0m\n\u001b[1;32m     17\u001b[0m \u001b[0;34m\u001b[0m\u001b[0m\n\u001b[0;32m---> 18\u001b[0;31m \u001b[0mget_darknet_perf\u001b[0m\u001b[0;34m(\u001b[0m\u001b[0mPATH\u001b[0m\u001b[0;34m,\u001b[0m \u001b[0minit_lr_sch\u001b[0m\u001b[0;34m,\u001b[0m \u001b[0minit_mom_sch\u001b[0m\u001b[0;34m,\u001b[0m \u001b[0mdownsample\u001b[0m\u001b[0;34m,\u001b[0m \u001b[0macc_dict\u001b[0m\u001b[0;34m=\u001b[0m\u001b[0;34m{\u001b[0m\u001b[0;34m}\u001b[0m\u001b[0;34m,\u001b[0m \u001b[0mbs\u001b[0m\u001b[0;34m=\u001b[0m\u001b[0;36m512\u001b[0m\u001b[0;34m)\u001b[0m\u001b[0;34m\u001b[0m\u001b[0m\n\u001b[0m",
      "\u001b[0;32m<ipython-input-5-107124e982b3>\u001b[0m in \u001b[0;36mget_darknet_perf\u001b[0;34m(PATH, lr_sch_list, mom_sch_list, downsample, acc_dict, bs)\u001b[0m\n\u001b[1;32m     24\u001b[0m             \u001b[0mprint\u001b[0m\u001b[0;34m(\u001b[0m\u001b[0;34m'momentum rate: '\u001b[0m\u001b[0;34m,\u001b[0m \u001b[0mmom_sch_list\u001b[0m\u001b[0;34m[\u001b[0m\u001b[0mind\u001b[0m\u001b[0;34m]\u001b[0m\u001b[0;34m)\u001b[0m\u001b[0;34m\u001b[0m\u001b[0m\n\u001b[1;32m     25\u001b[0m \u001b[0;34m\u001b[0m\u001b[0m\n\u001b[0;32m---> 26\u001b[0;31m             \u001b[0mlearn\u001b[0m\u001b[0;34m.\u001b[0m\u001b[0mfit_opt_sched\u001b[0m\u001b[0;34m(\u001b[0m\u001b[0mphases_linear\u001b[0m\u001b[0;34m(\u001b[0m\u001b[0mlr_sch_list\u001b[0m\u001b[0;34m[\u001b[0m\u001b[0mind\u001b[0m\u001b[0;34m]\u001b[0m\u001b[0;34m,\u001b[0m \u001b[0mmom_sch_list\u001b[0m\u001b[0;34m[\u001b[0m\u001b[0mind\u001b[0m\u001b[0;34m]\u001b[0m\u001b[0;34m)\u001b[0m\u001b[0;34m)\u001b[0m\u001b[0;34m\u001b[0m\u001b[0m\n\u001b[0m\u001b[1;32m     27\u001b[0m \u001b[0;31m#             learn.sched.plot_lr(show_text=False)\u001b[0m\u001b[0;34m\u001b[0m\u001b[0;34m\u001b[0m\u001b[0m\n\u001b[1;32m     28\u001b[0m             \u001b[0mpreds\u001b[0m\u001b[0;34m,\u001b[0m \u001b[0my\u001b[0m \u001b[0;34m=\u001b[0m \u001b[0mlearn\u001b[0m\u001b[0;34m.\u001b[0m\u001b[0mpredict_with_targs\u001b[0m\u001b[0;34m(\u001b[0m\u001b[0;34m)\u001b[0m\u001b[0;34m\u001b[0m\u001b[0m\n",
      "\u001b[0;32m/media/rene/Data/fastai/fastai/learner.py\u001b[0m in \u001b[0;36mfit_opt_sched\u001b[0;34m(self, phases, cycle_save_name, best_save_name, use_wd_sched, norm_wds, wds_sched_mult, stop_div, data_list, callbacks, **kwargs)\u001b[0m\n\u001b[1;32m    424\u001b[0m         \u001b[0;32mif\u001b[0m \u001b[0mlen\u001b[0m\u001b[0;34m(\u001b[0m\u001b[0mdata_list\u001b[0m\u001b[0;34m)\u001b[0m\u001b[0;34m==\u001b[0m\u001b[0;36m0\u001b[0m\u001b[0;34m:\u001b[0m \u001b[0mdata_list\u001b[0m \u001b[0;34m=\u001b[0m \u001b[0;34m[\u001b[0m\u001b[0mself\u001b[0m\u001b[0;34m.\u001b[0m\u001b[0mdata\u001b[0m\u001b[0;34m]\u001b[0m\u001b[0;34m\u001b[0m\u001b[0m\n\u001b[1;32m    425\u001b[0m         return fit(self.model, data_list, n_epochs,layer_opt, self.crit,\n\u001b[0;32m--> 426\u001b[0;31m             metrics=metrics, callbacks=callbacks, reg_fn=self.reg_fn, clip=self.clip, fp16=self.fp16, **kwargs)\n\u001b[0m\u001b[1;32m    427\u001b[0m \u001b[0;34m\u001b[0m\u001b[0m\n\u001b[1;32m    428\u001b[0m     \u001b[0;32mdef\u001b[0m \u001b[0m_get_crit\u001b[0m\u001b[0;34m(\u001b[0m\u001b[0mself\u001b[0m\u001b[0;34m,\u001b[0m \u001b[0mdata\u001b[0m\u001b[0;34m)\u001b[0m\u001b[0;34m:\u001b[0m \u001b[0;32mreturn\u001b[0m \u001b[0mF\u001b[0m\u001b[0;34m.\u001b[0m\u001b[0mmse_loss\u001b[0m\u001b[0;34m\u001b[0m\u001b[0m\n",
      "\u001b[0;32m/media/rene/Data/fastai/fastai/model.py\u001b[0m in \u001b[0;36mfit\u001b[0;34m(model, data, n_epochs, opt, crit, metrics, callbacks, stepper, swa_model, swa_start, swa_eval_freq, **kwargs)\u001b[0m\n\u001b[1;32m    127\u001b[0m             \u001b[0mbatch_num\u001b[0m \u001b[0;34m+=\u001b[0m \u001b[0;36m1\u001b[0m\u001b[0;34m\u001b[0m\u001b[0m\n\u001b[1;32m    128\u001b[0m             \u001b[0;32mfor\u001b[0m \u001b[0mcb\u001b[0m \u001b[0;32min\u001b[0m \u001b[0mcallbacks\u001b[0m\u001b[0;34m:\u001b[0m \u001b[0mcb\u001b[0m\u001b[0;34m.\u001b[0m\u001b[0mon_batch_begin\u001b[0m\u001b[0;34m(\u001b[0m\u001b[0;34m)\u001b[0m\u001b[0;34m\u001b[0m\u001b[0m\n\u001b[0;32m--> 129\u001b[0;31m             \u001b[0mloss\u001b[0m \u001b[0;34m=\u001b[0m \u001b[0mmodel_stepper\u001b[0m\u001b[0;34m.\u001b[0m\u001b[0mstep\u001b[0m\u001b[0;34m(\u001b[0m\u001b[0mV\u001b[0m\u001b[0;34m(\u001b[0m\u001b[0mx\u001b[0m\u001b[0;34m)\u001b[0m\u001b[0;34m,\u001b[0m\u001b[0mV\u001b[0m\u001b[0;34m(\u001b[0m\u001b[0my\u001b[0m\u001b[0;34m)\u001b[0m\u001b[0;34m,\u001b[0m \u001b[0mepoch\u001b[0m\u001b[0;34m)\u001b[0m\u001b[0;34m\u001b[0m\u001b[0m\n\u001b[0m\u001b[1;32m    130\u001b[0m             \u001b[0mavg_loss\u001b[0m \u001b[0;34m=\u001b[0m \u001b[0mavg_loss\u001b[0m \u001b[0;34m*\u001b[0m \u001b[0mavg_mom\u001b[0m \u001b[0;34m+\u001b[0m \u001b[0mloss\u001b[0m \u001b[0;34m*\u001b[0m \u001b[0;34m(\u001b[0m\u001b[0;36m1\u001b[0m\u001b[0;34m-\u001b[0m\u001b[0mavg_mom\u001b[0m\u001b[0;34m)\u001b[0m\u001b[0;34m\u001b[0m\u001b[0m\n\u001b[1;32m    131\u001b[0m             \u001b[0mdebias_loss\u001b[0m \u001b[0;34m=\u001b[0m \u001b[0mavg_loss\u001b[0m \u001b[0;34m/\u001b[0m \u001b[0;34m(\u001b[0m\u001b[0;36m1\u001b[0m \u001b[0;34m-\u001b[0m \u001b[0mavg_mom\u001b[0m\u001b[0;34m**\u001b[0m\u001b[0mbatch_num\u001b[0m\u001b[0;34m)\u001b[0m\u001b[0;34m\u001b[0m\u001b[0m\n",
      "\u001b[0;32m/media/rene/Data/fastai/fastai/model.py\u001b[0m in \u001b[0;36mstep\u001b[0;34m(self, xs, y, epoch)\u001b[0m\n\u001b[1;32m     49\u001b[0m         \u001b[0;32mif\u001b[0m \u001b[0misinstance\u001b[0m\u001b[0;34m(\u001b[0m\u001b[0moutput\u001b[0m\u001b[0;34m,\u001b[0m\u001b[0mtuple\u001b[0m\u001b[0;34m)\u001b[0m\u001b[0;34m:\u001b[0m \u001b[0moutput\u001b[0m\u001b[0;34m,\u001b[0m\u001b[0;34m*\u001b[0m\u001b[0mxtra\u001b[0m \u001b[0;34m=\u001b[0m \u001b[0moutput\u001b[0m\u001b[0;34m\u001b[0m\u001b[0m\n\u001b[1;32m     50\u001b[0m         \u001b[0;32mif\u001b[0m \u001b[0mself\u001b[0m\u001b[0;34m.\u001b[0m\u001b[0mfp16\u001b[0m\u001b[0;34m:\u001b[0m \u001b[0mself\u001b[0m\u001b[0;34m.\u001b[0m\u001b[0mm\u001b[0m\u001b[0;34m.\u001b[0m\u001b[0mzero_grad\u001b[0m\u001b[0;34m(\u001b[0m\u001b[0;34m)\u001b[0m\u001b[0;34m\u001b[0m\u001b[0m\n\u001b[0;32m---> 51\u001b[0;31m         \u001b[0;32melse\u001b[0m\u001b[0;34m:\u001b[0m \u001b[0mself\u001b[0m\u001b[0;34m.\u001b[0m\u001b[0mopt\u001b[0m\u001b[0;34m.\u001b[0m\u001b[0mzero_grad\u001b[0m\u001b[0;34m(\u001b[0m\u001b[0;34m)\u001b[0m\u001b[0;34m\u001b[0m\u001b[0m\n\u001b[0m\u001b[1;32m     52\u001b[0m         \u001b[0mloss\u001b[0m \u001b[0;34m=\u001b[0m \u001b[0mraw_loss\u001b[0m \u001b[0;34m=\u001b[0m \u001b[0mself\u001b[0m\u001b[0;34m.\u001b[0m\u001b[0mcrit\u001b[0m\u001b[0;34m(\u001b[0m\u001b[0moutput\u001b[0m\u001b[0;34m,\u001b[0m \u001b[0my\u001b[0m\u001b[0;34m)\u001b[0m\u001b[0;34m\u001b[0m\u001b[0m\n\u001b[1;32m     53\u001b[0m         \u001b[0;32mif\u001b[0m \u001b[0mself\u001b[0m\u001b[0;34m.\u001b[0m\u001b[0mloss_scale\u001b[0m \u001b[0;34m!=\u001b[0m \u001b[0;36m1\u001b[0m\u001b[0;34m:\u001b[0m \u001b[0;32massert\u001b[0m\u001b[0;34m(\u001b[0m\u001b[0mself\u001b[0m\u001b[0;34m.\u001b[0m\u001b[0mfp16\u001b[0m\u001b[0;34m)\u001b[0m\u001b[0;34m;\u001b[0m \u001b[0mloss\u001b[0m \u001b[0;34m=\u001b[0m \u001b[0mloss\u001b[0m\u001b[0;34m*\u001b[0m\u001b[0mself\u001b[0m\u001b[0;34m.\u001b[0m\u001b[0mloss_scale\u001b[0m\u001b[0;34m\u001b[0m\u001b[0m\n",
      "\u001b[0;32m~/miniconda3/envs/fastai/lib/python3.6/site-packages/torch/optim/optimizer.py\u001b[0m in \u001b[0;36mzero_grad\u001b[0;34m(self)\u001b[0m\n\u001b[1;32m    114\u001b[0m                 \u001b[0;32mif\u001b[0m \u001b[0mp\u001b[0m\u001b[0;34m.\u001b[0m\u001b[0mgrad\u001b[0m \u001b[0;32mis\u001b[0m \u001b[0;32mnot\u001b[0m \u001b[0;32mNone\u001b[0m\u001b[0;34m:\u001b[0m\u001b[0;34m\u001b[0m\u001b[0m\n\u001b[1;32m    115\u001b[0m                     \u001b[0;32mif\u001b[0m \u001b[0mp\u001b[0m\u001b[0;34m.\u001b[0m\u001b[0mgrad\u001b[0m\u001b[0;34m.\u001b[0m\u001b[0mvolatile\u001b[0m\u001b[0;34m:\u001b[0m\u001b[0;34m\u001b[0m\u001b[0m\n\u001b[0;32m--> 116\u001b[0;31m                         \u001b[0mp\u001b[0m\u001b[0;34m.\u001b[0m\u001b[0mgrad\u001b[0m\u001b[0;34m.\u001b[0m\u001b[0mdata\u001b[0m\u001b[0;34m.\u001b[0m\u001b[0mzero_\u001b[0m\u001b[0;34m(\u001b[0m\u001b[0;34m)\u001b[0m\u001b[0;34m\u001b[0m\u001b[0m\n\u001b[0m\u001b[1;32m    117\u001b[0m                     \u001b[0;32melse\u001b[0m\u001b[0;34m:\u001b[0m\u001b[0;34m\u001b[0m\u001b[0m\n\u001b[1;32m    118\u001b[0m                         \u001b[0mdata\u001b[0m \u001b[0;34m=\u001b[0m \u001b[0mp\u001b[0m\u001b[0;34m.\u001b[0m\u001b[0mgrad\u001b[0m\u001b[0;34m.\u001b[0m\u001b[0mdata\u001b[0m\u001b[0;34m\u001b[0m\u001b[0m\n",
      "\u001b[0;31mKeyboardInterrupt\u001b[0m: "
     ]
    }
   ],
   "source": [
    "PATH = \"/media/rene/Data/data/cifar10/\"\n",
    "out_loc = '/media/rene/Data/data/learn-lr/output_test'# /cifar_dark_10epoch_ds2'\n",
    "num_schedules = 4\n",
    "epochs = 10\n",
    "generations = 100\n",
    "downsample = 2\n",
    "\n",
    "size = int(2*epochs/downsample)\n",
    "init_lr_sch = [[.01]*size]*num_schedules\n",
    "init_mom_sch = [[.9]*size]*num_schedules\n",
    "\n",
    "init_lr_sch = [np.repeat(np.array(x), int(downsample)).tolist() for x in init_lr_sch]\n",
    "init_mom_sch = [np.repeat(np.array(x), int(downsample)).tolist() for x in init_mom_sch]\n",
    "\n",
    "print(init_lr_sch)\n",
    "print(init_mom_sch)\n",
    "\n",
    "get_darknet_perf(PATH, init_lr_sch, init_mom_sch, downsample, acc_dict={}, bs=512)"
   ]
  },
  {
   "cell_type": "code",
   "execution_count": 15,
   "metadata": {},
   "outputs": [
    {
     "name": "stdout",
     "output_type": "stream",
     "text": [
      "[[0.0025140611366266216, 0.0025140611366266216, 0.026619074181636178, 0.026619074181636178, 0.04904760368374687, 0.04904760368374687, 0.005461262881954834, 0.005461262881954834, 0.0074810100472590185, 0.0074810100472590185, 0.0051664868523782145, 0.0051664868523782145, 0.0030163019417040566, 0.0030163019417040566, 0.020265451432025683, 0.020265451432025683, 0.006037795530203566, 0.006037795530203566, 0.020680738149151282, 0.020680738149151282], [0.005303306287370897, 0.005303306287370897, 0.005164211587438329, 0.005164211587438329, 0.002457554744482135, 0.002457554744482135, 0.09432471486941595, 0.09432471486941595, 0.00111329686162439, 0.00111329686162439, 0.01247845714104641, 0.01247845714104641, 0.013237799189890483, 0.013237799189890483, 0.0014109426947985428, 0.0014109426947985428, 0.060889445339874344, 0.060889445339874344, 0.0016643544559448587, 0.0016643544559448587], [0.017846247104587633, 0.017846247104587633, 0.0015911064527667493, 0.0015911064527667493, 0.02640617993584234, 0.02640617993584234, 0.057897393195831794, 0.057897393195831794, 0.024579889496312082, 0.024579889496312082, 0.003406790268619328, 0.003406790268619328, 0.06605833144666658, 0.06605833144666658, 0.014429016330378528, 0.014429016330378528, 0.005240512845982615, 0.005240512845982615, 0.05073042205358094, 0.05073042205358094], [0.0031071228528274553, 0.0031071228528274553, 0.036382137509529254, 0.036382137509529254, 0.00123315969685958, 0.00123315969685958, 0.05889553579681147, 0.05889553579681147, 0.003571432459681145, 0.003571432459681145, 0.014516061597156167, 0.014516061597156167, 0.06627115281046979, 0.06627115281046979, 0.09664560140173506, 0.09664560140173506, 0.00133182781029392, 0.00133182781029392, 0.07193874799664005, 0.07193874799664005]]\n",
      "[[0.9, 0.9, 0.9, 0.9, 0.9, 0.9, 0.9, 0.9, 0.9, 0.9, 0.9, 0.9, 0.9, 0.9, 0.9, 0.9, 0.9, 0.9, 0.9, 0.9], [0.9, 0.9, 0.9, 0.9, 0.9, 0.9, 0.9, 0.9, 0.9, 0.9, 0.9, 0.9, 0.9, 0.9, 0.9, 0.9, 0.9, 0.9, 0.9, 0.9], [0.9, 0.9, 0.9, 0.9, 0.9, 0.9, 0.9, 0.9, 0.9, 0.9, 0.9, 0.9, 0.9, 0.9, 0.9, 0.9, 0.9, 0.9, 0.9, 0.9], [0.9, 0.9, 0.9, 0.9, 0.9, 0.9, 0.9, 0.9, 0.9, 0.9, 0.9, 0.9, 0.9, 0.9, 0.9, 0.9, 0.9, 0.9, 0.9, 0.9]]\n"
     ]
    },
    {
     "name": "stderr",
     "output_type": "stream",
     "text": [
      "/home/rene/miniconda3/envs/fastai/lib/python3.6/site-packages/tqdm/_monitor.py:89: TqdmSynchronisationWarning: Set changed size during iteration (see https://github.com/tqdm/tqdm/issues/481)\n",
      "  TqdmSynchronisationWarning)\n"
     ]
    },
    {
     "name": "stdout",
     "output_type": "stream",
     "text": [
      "learning rate:  [0.0025140611366266216, 0.0025140611366266216, 0.026619074181636178, 0.026619074181636178, 0.04904760368374687, 0.04904760368374687, 0.005461262881954834, 0.005461262881954834, 0.0074810100472590185, 0.0074810100472590185, 0.0051664868523782145, 0.0051664868523782145, 0.0030163019417040566, 0.0030163019417040566, 0.020265451432025683, 0.020265451432025683, 0.006037795530203566, 0.006037795530203566, 0.020680738149151282, 0.020680738149151282]\n",
      "momentum rate:  [0.9, 0.9, 0.9, 0.9, 0.9, 0.9, 0.9, 0.9, 0.9, 0.9, 0.9, 0.9, 0.9, 0.9, 0.9, 0.9, 0.9, 0.9, 0.9, 0.9]\n"
     ]
    },
    {
     "data": {
      "application/vnd.jupyter.widget-view+json": {
       "model_id": "59f9e62ee7194d5bb9cbce8e1b40b3e7",
       "version_major": 2,
       "version_minor": 0
      },
      "text/plain": [
       "HBox(children=(IntProgress(value=0, description='Epoch', max=10), HTML(value='')))"
      ]
     },
     "metadata": {},
     "output_type": "display_data"
    },
    {
     "name": "stdout",
     "output_type": "stream",
     "text": [
      "epoch      trn_loss   val_loss   accuracy                 \n",
      "    0      1.654705   2.392083   0.1       \n",
      "    1      1.426524   2.80177    0.1332                   \n",
      "    2      1.147152   1.808245   0.372                    \n",
      "    3      0.853652   1.19573    0.588                     \n",
      "    4      0.757423   0.994693   0.644                     \n",
      "    5      0.690759   0.731386   0.7455                    \n",
      "    6      0.640746   0.706621   0.749                     \n",
      " 93%|█████████▎| 91/98 [00:34<00:02,  2.61it/s, loss=0.694]"
     ]
    },
    {
     "ename": "KeyboardInterrupt",
     "evalue": "",
     "output_type": "error",
     "traceback": [
      "\u001b[0;31m-----------------------------------------------------------\u001b[0m",
      "\u001b[0;31mKeyboardInterrupt\u001b[0m         Traceback (most recent call last)",
      "\u001b[0;32m<ipython-input-15-8cb1783f42b2>\u001b[0m in \u001b[0;36m<module>\u001b[0;34m()\u001b[0m\n\u001b[1;32m     17\u001b[0m \u001b[0mprint\u001b[0m\u001b[0;34m(\u001b[0m\u001b[0minit_mom_sch\u001b[0m\u001b[0;34m)\u001b[0m\u001b[0;34m\u001b[0m\u001b[0m\n\u001b[1;32m     18\u001b[0m \u001b[0;34m\u001b[0m\u001b[0m\n\u001b[0;32m---> 19\u001b[0;31m \u001b[0mget_darknet_perf\u001b[0m\u001b[0;34m(\u001b[0m\u001b[0mPATH\u001b[0m\u001b[0;34m,\u001b[0m \u001b[0minit_lr_sch\u001b[0m\u001b[0;34m,\u001b[0m \u001b[0minit_mom_sch\u001b[0m\u001b[0;34m,\u001b[0m \u001b[0mdownsample\u001b[0m\u001b[0;34m,\u001b[0m \u001b[0macc_dict\u001b[0m\u001b[0;34m=\u001b[0m\u001b[0;34m{\u001b[0m\u001b[0;34m}\u001b[0m\u001b[0;34m,\u001b[0m \u001b[0mbs\u001b[0m \u001b[0;34m=\u001b[0m \u001b[0;36m512\u001b[0m\u001b[0;34m)\u001b[0m\u001b[0;34m\u001b[0m\u001b[0m\n\u001b[0m",
      "\u001b[0;32m<ipython-input-5-107124e982b3>\u001b[0m in \u001b[0;36mget_darknet_perf\u001b[0;34m(PATH, lr_sch_list, mom_sch_list, downsample, acc_dict, bs)\u001b[0m\n\u001b[1;32m     24\u001b[0m             \u001b[0mprint\u001b[0m\u001b[0;34m(\u001b[0m\u001b[0;34m'momentum rate: '\u001b[0m\u001b[0;34m,\u001b[0m \u001b[0mmom_sch_list\u001b[0m\u001b[0;34m[\u001b[0m\u001b[0mind\u001b[0m\u001b[0;34m]\u001b[0m\u001b[0;34m)\u001b[0m\u001b[0;34m\u001b[0m\u001b[0m\n\u001b[1;32m     25\u001b[0m \u001b[0;34m\u001b[0m\u001b[0m\n\u001b[0;32m---> 26\u001b[0;31m             \u001b[0mlearn\u001b[0m\u001b[0;34m.\u001b[0m\u001b[0mfit_opt_sched\u001b[0m\u001b[0;34m(\u001b[0m\u001b[0mphases_linear\u001b[0m\u001b[0;34m(\u001b[0m\u001b[0mlr_sch_list\u001b[0m\u001b[0;34m[\u001b[0m\u001b[0mind\u001b[0m\u001b[0;34m]\u001b[0m\u001b[0;34m,\u001b[0m \u001b[0mmom_sch_list\u001b[0m\u001b[0;34m[\u001b[0m\u001b[0mind\u001b[0m\u001b[0;34m]\u001b[0m\u001b[0;34m)\u001b[0m\u001b[0;34m)\u001b[0m\u001b[0;34m\u001b[0m\u001b[0m\n\u001b[0m\u001b[1;32m     27\u001b[0m \u001b[0;31m#             learn.sched.plot_lr(show_text=False)\u001b[0m\u001b[0;34m\u001b[0m\u001b[0;34m\u001b[0m\u001b[0m\n\u001b[1;32m     28\u001b[0m             \u001b[0mpreds\u001b[0m\u001b[0;34m,\u001b[0m \u001b[0my\u001b[0m \u001b[0;34m=\u001b[0m \u001b[0mlearn\u001b[0m\u001b[0;34m.\u001b[0m\u001b[0mpredict_with_targs\u001b[0m\u001b[0;34m(\u001b[0m\u001b[0;34m)\u001b[0m\u001b[0;34m\u001b[0m\u001b[0m\n",
      "\u001b[0;32m/media/rene/Data/fastai/fastai/learner.py\u001b[0m in \u001b[0;36mfit_opt_sched\u001b[0;34m(self, phases, cycle_save_name, best_save_name, use_wd_sched, norm_wds, wds_sched_mult, stop_div, data_list, callbacks, **kwargs)\u001b[0m\n\u001b[1;32m    424\u001b[0m         \u001b[0;32mif\u001b[0m \u001b[0mlen\u001b[0m\u001b[0;34m(\u001b[0m\u001b[0mdata_list\u001b[0m\u001b[0;34m)\u001b[0m\u001b[0;34m==\u001b[0m\u001b[0;36m0\u001b[0m\u001b[0;34m:\u001b[0m \u001b[0mdata_list\u001b[0m \u001b[0;34m=\u001b[0m \u001b[0;34m[\u001b[0m\u001b[0mself\u001b[0m\u001b[0;34m.\u001b[0m\u001b[0mdata\u001b[0m\u001b[0;34m]\u001b[0m\u001b[0;34m\u001b[0m\u001b[0m\n\u001b[1;32m    425\u001b[0m         return fit(self.model, data_list, n_epochs,layer_opt, self.crit,\n\u001b[0;32m--> 426\u001b[0;31m             metrics=metrics, callbacks=callbacks, reg_fn=self.reg_fn, clip=self.clip, fp16=self.fp16, **kwargs)\n\u001b[0m\u001b[1;32m    427\u001b[0m \u001b[0;34m\u001b[0m\u001b[0m\n\u001b[1;32m    428\u001b[0m     \u001b[0;32mdef\u001b[0m \u001b[0m_get_crit\u001b[0m\u001b[0;34m(\u001b[0m\u001b[0mself\u001b[0m\u001b[0;34m,\u001b[0m \u001b[0mdata\u001b[0m\u001b[0;34m)\u001b[0m\u001b[0;34m:\u001b[0m \u001b[0;32mreturn\u001b[0m \u001b[0mF\u001b[0m\u001b[0;34m.\u001b[0m\u001b[0mmse_loss\u001b[0m\u001b[0;34m\u001b[0m\u001b[0m\n",
      "\u001b[0;32m/media/rene/Data/fastai/fastai/model.py\u001b[0m in \u001b[0;36mfit\u001b[0;34m(model, data, n_epochs, opt, crit, metrics, callbacks, stepper, swa_model, swa_start, swa_eval_freq, **kwargs)\u001b[0m\n\u001b[1;32m    127\u001b[0m             \u001b[0mbatch_num\u001b[0m \u001b[0;34m+=\u001b[0m \u001b[0;36m1\u001b[0m\u001b[0;34m\u001b[0m\u001b[0m\n\u001b[1;32m    128\u001b[0m             \u001b[0;32mfor\u001b[0m \u001b[0mcb\u001b[0m \u001b[0;32min\u001b[0m \u001b[0mcallbacks\u001b[0m\u001b[0;34m:\u001b[0m \u001b[0mcb\u001b[0m\u001b[0;34m.\u001b[0m\u001b[0mon_batch_begin\u001b[0m\u001b[0;34m(\u001b[0m\u001b[0;34m)\u001b[0m\u001b[0;34m\u001b[0m\u001b[0m\n\u001b[0;32m--> 129\u001b[0;31m             \u001b[0mloss\u001b[0m \u001b[0;34m=\u001b[0m \u001b[0mmodel_stepper\u001b[0m\u001b[0;34m.\u001b[0m\u001b[0mstep\u001b[0m\u001b[0;34m(\u001b[0m\u001b[0mV\u001b[0m\u001b[0;34m(\u001b[0m\u001b[0mx\u001b[0m\u001b[0;34m)\u001b[0m\u001b[0;34m,\u001b[0m\u001b[0mV\u001b[0m\u001b[0;34m(\u001b[0m\u001b[0my\u001b[0m\u001b[0;34m)\u001b[0m\u001b[0;34m,\u001b[0m \u001b[0mepoch\u001b[0m\u001b[0;34m)\u001b[0m\u001b[0;34m\u001b[0m\u001b[0m\n\u001b[0m\u001b[1;32m    130\u001b[0m             \u001b[0mavg_loss\u001b[0m \u001b[0;34m=\u001b[0m \u001b[0mavg_loss\u001b[0m \u001b[0;34m*\u001b[0m \u001b[0mavg_mom\u001b[0m \u001b[0;34m+\u001b[0m \u001b[0mloss\u001b[0m \u001b[0;34m*\u001b[0m \u001b[0;34m(\u001b[0m\u001b[0;36m1\u001b[0m\u001b[0;34m-\u001b[0m\u001b[0mavg_mom\u001b[0m\u001b[0;34m)\u001b[0m\u001b[0;34m\u001b[0m\u001b[0m\n\u001b[1;32m    131\u001b[0m             \u001b[0mdebias_loss\u001b[0m \u001b[0;34m=\u001b[0m \u001b[0mavg_loss\u001b[0m \u001b[0;34m/\u001b[0m \u001b[0;34m(\u001b[0m\u001b[0;36m1\u001b[0m \u001b[0;34m-\u001b[0m \u001b[0mavg_mom\u001b[0m\u001b[0;34m**\u001b[0m\u001b[0mbatch_num\u001b[0m\u001b[0;34m)\u001b[0m\u001b[0;34m\u001b[0m\u001b[0m\n",
      "\u001b[0;32m/media/rene/Data/fastai/fastai/model.py\u001b[0m in \u001b[0;36mstep\u001b[0;34m(self, xs, y, epoch)\u001b[0m\n\u001b[1;32m     53\u001b[0m         \u001b[0;32mif\u001b[0m \u001b[0mself\u001b[0m\u001b[0;34m.\u001b[0m\u001b[0mloss_scale\u001b[0m \u001b[0;34m!=\u001b[0m \u001b[0;36m1\u001b[0m\u001b[0;34m:\u001b[0m \u001b[0;32massert\u001b[0m\u001b[0;34m(\u001b[0m\u001b[0mself\u001b[0m\u001b[0;34m.\u001b[0m\u001b[0mfp16\u001b[0m\u001b[0;34m)\u001b[0m\u001b[0;34m;\u001b[0m \u001b[0mloss\u001b[0m \u001b[0;34m=\u001b[0m \u001b[0mloss\u001b[0m\u001b[0;34m*\u001b[0m\u001b[0mself\u001b[0m\u001b[0;34m.\u001b[0m\u001b[0mloss_scale\u001b[0m\u001b[0;34m\u001b[0m\u001b[0m\n\u001b[1;32m     54\u001b[0m         \u001b[0;32mif\u001b[0m \u001b[0mself\u001b[0m\u001b[0;34m.\u001b[0m\u001b[0mreg_fn\u001b[0m\u001b[0;34m:\u001b[0m \u001b[0mloss\u001b[0m \u001b[0;34m=\u001b[0m \u001b[0mself\u001b[0m\u001b[0;34m.\u001b[0m\u001b[0mreg_fn\u001b[0m\u001b[0;34m(\u001b[0m\u001b[0moutput\u001b[0m\u001b[0;34m,\u001b[0m \u001b[0mxtra\u001b[0m\u001b[0;34m,\u001b[0m \u001b[0mraw_loss\u001b[0m\u001b[0;34m)\u001b[0m\u001b[0;34m\u001b[0m\u001b[0m\n\u001b[0;32m---> 55\u001b[0;31m         \u001b[0mloss\u001b[0m\u001b[0;34m.\u001b[0m\u001b[0mbackward\u001b[0m\u001b[0;34m(\u001b[0m\u001b[0;34m)\u001b[0m\u001b[0;34m\u001b[0m\u001b[0m\n\u001b[0m\u001b[1;32m     56\u001b[0m         \u001b[0;32mif\u001b[0m \u001b[0mself\u001b[0m\u001b[0;34m.\u001b[0m\u001b[0mfp16\u001b[0m\u001b[0;34m:\u001b[0m \u001b[0mupdate_fp32_grads\u001b[0m\u001b[0;34m(\u001b[0m\u001b[0mself\u001b[0m\u001b[0;34m.\u001b[0m\u001b[0mfp32_params\u001b[0m\u001b[0;34m,\u001b[0m \u001b[0mself\u001b[0m\u001b[0;34m.\u001b[0m\u001b[0mm\u001b[0m\u001b[0;34m)\u001b[0m\u001b[0;34m\u001b[0m\u001b[0m\n\u001b[1;32m     57\u001b[0m         \u001b[0;32mif\u001b[0m \u001b[0mself\u001b[0m\u001b[0;34m.\u001b[0m\u001b[0mloss_scale\u001b[0m \u001b[0;34m!=\u001b[0m \u001b[0;36m1\u001b[0m\u001b[0;34m:\u001b[0m\u001b[0;34m\u001b[0m\u001b[0m\n",
      "\u001b[0;32m~/miniconda3/envs/fastai/lib/python3.6/site-packages/torch/autograd/variable.py\u001b[0m in \u001b[0;36mbackward\u001b[0;34m(self, gradient, retain_graph, create_graph, retain_variables)\u001b[0m\n\u001b[1;32m    165\u001b[0m                 \u001b[0mVariable\u001b[0m\u001b[0;34m.\u001b[0m\u001b[0;34m\u001b[0m\u001b[0m\n\u001b[1;32m    166\u001b[0m         \"\"\"\n\u001b[0;32m--> 167\u001b[0;31m         \u001b[0mtorch\u001b[0m\u001b[0;34m.\u001b[0m\u001b[0mautograd\u001b[0m\u001b[0;34m.\u001b[0m\u001b[0mbackward\u001b[0m\u001b[0;34m(\u001b[0m\u001b[0mself\u001b[0m\u001b[0;34m,\u001b[0m \u001b[0mgradient\u001b[0m\u001b[0;34m,\u001b[0m \u001b[0mretain_graph\u001b[0m\u001b[0;34m,\u001b[0m \u001b[0mcreate_graph\u001b[0m\u001b[0;34m,\u001b[0m \u001b[0mretain_variables\u001b[0m\u001b[0;34m)\u001b[0m\u001b[0;34m\u001b[0m\u001b[0m\n\u001b[0m\u001b[1;32m    168\u001b[0m \u001b[0;34m\u001b[0m\u001b[0m\n\u001b[1;32m    169\u001b[0m     \u001b[0;32mdef\u001b[0m \u001b[0mregister_hook\u001b[0m\u001b[0;34m(\u001b[0m\u001b[0mself\u001b[0m\u001b[0;34m,\u001b[0m \u001b[0mhook\u001b[0m\u001b[0;34m)\u001b[0m\u001b[0;34m:\u001b[0m\u001b[0;34m\u001b[0m\u001b[0m\n",
      "\u001b[0;32m~/miniconda3/envs/fastai/lib/python3.6/site-packages/torch/autograd/__init__.py\u001b[0m in \u001b[0;36mbackward\u001b[0;34m(variables, grad_variables, retain_graph, create_graph, retain_variables)\u001b[0m\n\u001b[1;32m     97\u001b[0m \u001b[0;34m\u001b[0m\u001b[0m\n\u001b[1;32m     98\u001b[0m     Variable._execution_engine.run_backward(\n\u001b[0;32m---> 99\u001b[0;31m         variables, grad_variables, retain_graph)\n\u001b[0m\u001b[1;32m    100\u001b[0m \u001b[0;34m\u001b[0m\u001b[0m\n\u001b[1;32m    101\u001b[0m \u001b[0;34m\u001b[0m\u001b[0m\n",
      "\u001b[0;31mKeyboardInterrupt\u001b[0m: "
     ]
    }
   ],
   "source": [
    "PATH = \"/media/rene/Data/data/cifar10/\"\n",
    "out_loc = '/media/rene/Data/data/learn-lr/output_test'# /cifar_dark_10epoch_ds2'\n",
    "num_schedules = 4\n",
    "epochs = 10\n",
    "generations = 100\n",
    "downsample = 2\n",
    "\n",
    "size = int(2*epochs/downsample)\n",
    "\n",
    "init_lr_sch = create_population(num_schedules, size=size, rate_range=(-3, -1))\n",
    "init_mom_sch = [[.9]*size]*num_schedules\n",
    "\n",
    "init_lr_sch = [np.repeat(np.array(x), int(downsample)).tolist() for x in init_lr_sch]\n",
    "init_mom_sch = [np.repeat(np.array(x), int(downsample)).tolist() for x in init_mom_sch]\n",
    "\n",
    "print(init_lr_sch)\n",
    "print(init_mom_sch)\n",
    "\n",
    "get_darknet_perf(PATH, init_lr_sch, init_mom_sch, downsample, acc_dict={}, bs = 512)"
   ]
  },
  {
   "cell_type": "code",
   "execution_count": null,
   "metadata": {},
   "outputs": [],
   "source": []
  },
  {
   "cell_type": "code",
   "execution_count": null,
   "metadata": {},
   "outputs": [],
   "source": []
  }
 ],
 "metadata": {
  "kernelspec": {
   "display_name": "Python 3",
   "language": "python",
   "name": "python3"
  },
  "language_info": {
   "codemirror_mode": {
    "name": "ipython",
    "version": 3
   },
   "file_extension": ".py",
   "mimetype": "text/x-python",
   "name": "python",
   "nbconvert_exporter": "python",
   "pygments_lexer": "ipython3",
   "version": "3.6.5"
  }
 },
 "nbformat": 4,
 "nbformat_minor": 2
}
