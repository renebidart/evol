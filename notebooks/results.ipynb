{
 "cells": [
  {
   "cell_type": "markdown",
   "metadata": {},
   "source": [
    "## Results\n",
    "** Figure out xbest vs. xfavorite **"
   ]
  },
  {
   "cell_type": "code",
   "execution_count": 5,
   "metadata": {},
   "outputs": [],
   "source": [
    "import sys\n",
    "sys.path.append('/media/rene/LLR/lib/python3.6/site-packages')\n",
    "\n",
    "import os\n",
    "import sys\n",
    "import pickle\n",
    "import numpy as np\n",
    "import pandas as pd\n",
    "from pathlib import Path\n",
    "# import matplotlib.pyplot as plt\n",
    "# from matplotlib.pyplot import imshow\n",
    "from IPython.display import display, HTML\n",
    "%reload_ext autoreload\n",
    "%autoreload 2\n",
    "# %matplotlib inline\n",
    "\n",
    "PATH = Path('/media/rene/data/learn-lr/')"
   ]
  },
  {
   "cell_type": "code",
   "execution_count": 15,
   "metadata": {},
   "outputs": [
    {
     "name": "stdout",
     "output_type": "stream",
     "text": [
      "CMAEvolutionStrategyResult(xbest=array([-0.73154812,  0.14339549]), fbest=-98.0199966430664, evals_best=5, evaluations=6, iterations=1, xfavorite=array([-0.97226705, -1.04725905]), stds=array([1.31581276, 1.29166557]))\n",
      "[-0.73154812  0.14339549]\n"
     ]
    }
   ],
   "source": [
    "results_loc = Path(PATH/'MNIST'/'models'/'SimpleNetMNIST_bs_512_nGen_2_nPop_2_metrics.pkl')\n",
    "\n",
    "with open(results_loc, 'rb')as f:\n",
    "    results = pickle.load(f)\n",
    "\n",
    "# results = np.array(results)*-1\n",
    "print(results[0])\n",
    "\n",
    "print(results[0].xbest)\n",
    "print(results[0].fbest)\n",
    "\n",
    "\n",
    "\n"
   ]
  },
  {
   "cell_type": "code",
   "execution_count": 25,
   "metadata": {},
   "outputs": [
    {
     "data": {
      "text/plain": [
       "'/media/rene/data/learn-lr/MNIST/models'"
      ]
     },
     "execution_count": 25,
     "metadata": {},
     "output_type": "execute_result"
    }
   ],
   "source": [
    "loc = str(PATH/'MNIST'/'models')\n",
    "loc"
   ]
  },
  {
   "cell_type": "code",
   "execution_count": 26,
   "metadata": {},
   "outputs": [
    {
     "name": "stdout",
     "output_type": "stream",
     "text": [
      "SimpleNetMNIST_bs_512_nGen_2_nPop_2_metrics.pkl\r\n",
      "SimpleNetMNIST_nGen_4_nPop_4_metrics.pkl\r\n"
     ]
    }
   ],
   "source": [
    "! ls /media/rene/data/learn-lr/MNIST/models"
   ]
  },
  {
   "cell_type": "code",
   "execution_count": null,
   "metadata": {},
   "outputs": [],
   "source": []
  }
 ],
 "metadata": {
  "kernelspec": {
   "display_name": "LLR",
   "language": "python",
   "name": "llr"
  },
  "language_info": {
   "codemirror_mode": {
    "name": "ipython",
    "version": 3
   },
   "file_extension": ".py",
   "mimetype": "text/x-python",
   "name": "python",
   "nbconvert_exporter": "python",
   "pygments_lexer": "ipython3",
   "version": "3.6.3"
  }
 },
 "nbformat": 4,
 "nbformat_minor": 2
}
