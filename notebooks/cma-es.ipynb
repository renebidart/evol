{
 "cells": [
  {
   "cell_type": "code",
   "execution_count": 47,
   "metadata": {},
   "outputs": [],
   "source": [
    "import sys\n",
    "sys.path.append('/media/rene/LLR/lib/python3.6/site-packages')\n",
    "import numpy as np\n",
    "import matplotlib.pyplot as plt\n",
    "import cma\n",
    "from es import CMAES"
   ]
  },
  {
   "cell_type": "code",
   "execution_count": 48,
   "metadata": {},
   "outputs": [],
   "source": [
    "def function_banana(inp):\n",
    "    (x, y) = inp[0], inp[1]\n",
    "    val = (1 - x)**2 + 100*(y - x**2)**2\n",
    "    return val\n",
    "\n",
    "fit_func = function_banana"
   ]
  },
  {
   "cell_type": "code",
   "execution_count": 44,
   "metadata": {},
   "outputs": [],
   "source": [
    "NPARAMS = 2        # 2 dim\n",
    "NPOPULATION = 10    # use population size of 10\n",
    "MAX_ITERATION = 200 # run each solver for 500 generations."
   ]
  },
  {
   "cell_type": "code",
   "execution_count": 45,
   "metadata": {},
   "outputs": [],
   "source": [
    "# defines a function to use solver to solve fit_func\n",
    "def test_solver(solver, fit_func):\n",
    "    history = []\n",
    "    for j in range(MAX_ITERATION):\n",
    "        solutions = solver.ask()\n",
    "        fitness_list = np.zeros(solver.popsize)\n",
    "        for i in range(solver.popsize):\n",
    "            fitness_list[i] = fit_func(solutions[i])\n",
    "        solver.tell(fitness_list)\n",
    "        result = solver.result() # first element is the best solution, second element is the best fitness\n",
    "        history.append(result[1])\n",
    "        if (j+1) % 100 == 0:\n",
    "            print(\"fitness at iteration\", (j+1), result[1])\n",
    "    print(\"local optimum discovered by solver:\\n\", result[0])\n",
    "    print(\"fitness score at this local optimum:\", result[1])\n",
    "    return history"
   ]
  },
  {
   "cell_type": "code",
   "execution_count": 46,
   "metadata": {},
   "outputs": [
    {
     "name": "stdout",
     "output_type": "stream",
     "text": [
      "(5_w,10)-aCMA-ES (mu_w=3.2,w_1=45%) in dimension 2 (seed=603697, Thu Oct 25 23:03:17 2018)\n",
      "WARNING (class=CMAAdaptSigmaCSA method=update iteration=9):  sigma change np.exp(1.0011080358221212) = 2.7212954513923515 clipped to np.exp(+-1)\n",
      "WARNING (class=CMAAdaptSigmaCSA method=update iteration=50):  sigma change np.exp(1.0069986306977963) = 2.737372806537307 clipped to np.exp(+-1)\n",
      "WARNING (class=CMAAdaptSigmaCSA method=update iteration=51):  sigma change np.exp(1.054439927473229) = 2.870367089878352 clipped to np.exp(+-1)\n",
      "fitness at iteration 100 2.617132473501196e+102\n",
      "WARNING (class=CMAAdaptSigmaCSA method=update iteration=110):  sigma change np.exp(1.0544996344622353) = 2.8705384759710544 clipped to np.exp(+-1)\n",
      "WARNING (class=CMAAdaptSigmaCSA method=update iteration=164):  sigma change np.exp(1.0200840800927098) = 2.7734279442399266 clipped to np.exp(+-1)\n",
      "WARNING (class=CMAAdaptSigmaCSA method=update iteration=195):  sigma change np.exp(1.038919272705942) = 2.826161053930694 clipped to np.exp(+-1)\n",
      "fitness at iteration 200 5.50686881716835e+188\n",
      "local optimum discovered by solver:\n",
      " [ 4.84424593e+46 -2.17895981e+46]\n",
      "fitness score at this local optimum: 5.50686881716835e+188\n"
     ]
    }
   ],
   "source": [
    "cmaes = CMAES(NPARAMS,\n",
    "              popsize=NPOPULATION,\n",
    "              weight_decay=0.0,\n",
    "              sigma_init = 0.5\n",
    "          )\n",
    "\n",
    "cma_history = test_solver(cmaes, function_banana)"
   ]
  },
  {
   "cell_type": "code",
   "execution_count": 49,
   "metadata": {},
   "outputs": [
    {
     "name": "stderr",
     "output_type": "stream",
     "text": [
      "/home/rene/miniconda3/lib/python3.6/importlib/_bootstrap.py:219: RuntimeWarning: numpy.dtype size changed, may indicate binary incompatibility. Expected 96, got 88\n",
      "  return f(*args, **kwds)\n"
     ]
    }
   ],
   "source": [
    "import os\n",
    "import sys\n",
    "import pickle\n",
    "import numpy as np\n",
    "import pandas as pd\n",
    "from pathlib import Path\n",
    "import matplotlib.pyplot as plt\n",
    "from matplotlib.pyplot import imshow\n",
    "from IPython.display import display, HTML\n",
    "%reload_ext autoreload\n",
    "%autoreload 2\n",
    "%matplotlib inline\n",
    "\n",
    "# Nicer way to import the module?\n",
    "sys.path.append(str(Path.cwd().parent))\n",
    "\n",
    "import torch\n",
    "from torch import nn\n",
    "import torch.optim as optim\n",
    "from torch.optim import lr_scheduler\n",
    "import cma\n",
    "from es import CMAES\n",
    "\n",
    "from utils.data import make_generators_DF_cifar, make_generators_DF_MNIST\n",
    "from utils.loading import net_from_args\n",
    "from utils.scheduler import ListScheduler\n",
    "from utils.train_val import train_net"
   ]
  },
  {
   "cell_type": "code",
   "execution_count": 50,
   "metadata": {},
   "outputs": [],
   "source": [
    "def main(args):\n",
    "    batch_size, num_workers = int(args.batch_size), int(args.num_workers)\n",
    "    IM_SIZE = int(args.IM_SIZE)\n",
    "    device = torch.device(args.device)\n",
    "\n",
    "    NPARAMS = int(args.epochs)  # one learning rate (parameter) per epoch\n",
    "    NPOPULATION = int(args.NPOPULATION)  # population size\n",
    "    MAX_GENERATIONS = int(args.MAX_GENERATIONS)  # number of generations\n",
    "\n",
    "    SAVE_PATH = Path(args.SAVE_PATH)\n",
    "    SAVE_PATH.mkdir(parents=True, exist_ok=True)\n",
    "    with open(args.files_df_loc, 'rb') as f:\n",
    "        files_df = pickle.load(f)\n",
    "\n",
    "    # Use CMA-ES to evolve:\n",
    "    solver = CMAES(NPARAMS,\n",
    "                  popsize=NPOPULATION,\n",
    "                  weight_decay=0.0,\n",
    "                  sigma_init = 0.5\n",
    "              )\n",
    "    # ??? maybe make history much more extensive\n",
    "    history = []\n",
    "    for j in range(MAX_GENERATIONS):\n",
    "        solutions = solver.ask()\n",
    "        fitness_list = np.zeros(solver.popsize)\n",
    "\n",
    "         # ??? Make generators for each generation. Does this matter? or just do it once???\n",
    "        if args.dataset == 'CIFAR10':\n",
    "            dataloaders = make_generators_DF_cifar(files_df, batch_size, num_workers, size=IM_SIZE, \n",
    "                                                    path_colname='path', adv_path_colname=None, return_loc=False)\n",
    "        elif args.dataset == 'MNIST':\n",
    "            dataloaders = make_generators_DF_MNIST(files_df, batch_size, num_workers, size=IM_SIZE,\n",
    "                                                    path_colname='path', adv_path_colname=None, return_loc=False, normalize=True)\n",
    "\n",
    "        # evaluate each set of learning rates, using new model each time:\n",
    "        for i in range(solver.popsize):\n",
    "            model, model_name = net_from_args(args, num_classes=10, IM_SIZE=IM_SIZE)\n",
    "            model = model.to(device)\n",
    "\n",
    "            # Train it for the given lr list:\n",
    "            metrics = train_net(model, dataloaders, all_lr_lists[i], batch_size)\n",
    "            # the fitness is the best validation accuracy:\n",
    "            fitness_list[i] = metrics['best_val_acc']\n",
    "        solver.tell(fitness_list)\n",
    "        result = solver.result() # first element is the best solution, second element is the best fitness\n",
    "        history.append(result[1])\n",
    "        print(\"fitness at generation\", (j+1), result[1])\n",
    "    print(\"local optimum discovered by solver:\\n\", result[0])\n",
    "    print(\"fitness score at this local optimum:\", result[1])\n",
    "        \n",
    "    pickle.dump(history, open(str(SAVE_PATH)+'/'+str(model_name)+'_nGen_'+str(MAX_GENERATIONS)+'_nPop_'+str(NPOPULATION)+'_metrics.pkl', \"wb\"))"
   ]
  },
  {
   "cell_type": "code",
   "execution_count": 51,
   "metadata": {},
   "outputs": [
    {
     "ename": "AttributeError",
     "evalue": "'dict' object has no attribute 'device'",
     "output_type": "error",
     "traceback": [
      "\u001b[0;31m----------------------------------------------------------------\u001b[0m",
      "\u001b[0;31mAttributeError\u001b[0m                 Traceback (most recent call last)",
      "\u001b[0;32m<ipython-input-51-9a0204586689>\u001b[0m in \u001b[0;36m<module>\u001b[0;34m()\u001b[0m\n\u001b[1;32m     13\u001b[0m \u001b[0;34m\u001b[0m\u001b[0m\n\u001b[1;32m     14\u001b[0m \u001b[0;34m\u001b[0m\u001b[0m\n\u001b[0;32m---> 15\u001b[0;31m \u001b[0;32mwith\u001b[0m \u001b[0mtorch\u001b[0m\u001b[0;34m.\u001b[0m\u001b[0mcuda\u001b[0m\u001b[0;34m.\u001b[0m\u001b[0mdevice\u001b[0m\u001b[0;34m(\u001b[0m\u001b[0mtorch\u001b[0m\u001b[0;34m.\u001b[0m\u001b[0mdevice\u001b[0m\u001b[0;34m(\u001b[0m\u001b[0margs\u001b[0m\u001b[0;34m.\u001b[0m\u001b[0mdevice\u001b[0m\u001b[0;34m)\u001b[0m\u001b[0;34m.\u001b[0m\u001b[0mindex\u001b[0m\u001b[0;34m)\u001b[0m\u001b[0;34m:\u001b[0m\u001b[0;34m\u001b[0m\u001b[0m\n\u001b[0m\u001b[1;32m     16\u001b[0m     \u001b[0mmain\u001b[0m\u001b[0;34m(\u001b[0m\u001b[0margs\u001b[0m\u001b[0;34m)\u001b[0m\u001b[0;34m\u001b[0m\u001b[0m\n",
      "\u001b[0;31mAttributeError\u001b[0m: 'dict' object has no attribute 'device'"
     ]
    }
   ],
   "source": [
    "args = {}\n",
    "\n",
    "args['files_df_loc'] = '/media/rene/data/learn-lr/MNIST/files_df.pkl'\n",
    "args['SAVE_PATH'] = '/media/rene/data/learn-lr/MNIST/models'\n",
    "args['net_type'] = 'SimpleNetMNIST'\n",
    "args['depth'] = '18'\n",
    "args['batch_size'] = 512\n",
    "args['device'] = 'cuda:1'\n",
    "args['dataset'] = 'MNIST'\n",
    "args['IM_SIZE'] = 28\n",
    "args['MAX_GENERATIONS'] = 5\n",
    "args['NPOPULATION'] = 10\n",
    "\n",
    "\n",
    "with torch.cuda.device(torch.device(args.device).index):\n",
    "    main(args)"
   ]
  },
  {
   "cell_type": "code",
   "execution_count": null,
   "metadata": {},
   "outputs": [],
   "source": []
  }
 ],
 "metadata": {
  "kernelspec": {
   "display_name": "Python 3",
   "language": "python",
   "name": "python3"
  },
  "language_info": {
   "codemirror_mode": {
    "name": "ipython",
    "version": 3
   },
   "file_extension": ".py",
   "mimetype": "text/x-python",
   "name": "python",
   "nbconvert_exporter": "python",
   "pygments_lexer": "ipython3",
   "version": "3.6.3"
  }
 },
 "nbformat": 4,
 "nbformat_minor": 2
}
